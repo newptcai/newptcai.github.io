{
 "cells": [
  {
   "cell_type": "markdown",
   "metadata": {},
   "source": [
    "# 2. Strings, Sets and Binomial Coefficients"
   ]
  },
  {
   "cell_type": "markdown",
   "metadata": {},
   "source": [
    "## Lattice paths"
   ]
  },
  {
   "cell_type": "code",
   "execution_count": null,
   "metadata": {},
   "outputs": [],
   "source": [
    "def get_grid(n):\n",
    "    grid = Graphics()\n",
    "    for i in range(0,n+1,1):\n",
    "        grid += line([(i,0),(i,n)])\n",
    "        grid += line([(0,i),(n,i)])\n",
    "    return grid\n",
    "grid6 = get_grid(6)\n",
    "show(grid6,aspect_ratio=1,axes=False)"
   ]
  },
  {
   "cell_type": "code",
   "execution_count": null,
   "metadata": {},
   "outputs": [],
   "source": [
    "l1=line([(0,0),(2,0),(2,2),(3,2),(3,3),(5,3),(5,4),(6,4),(6,6)],color='red',thickness=5)\n",
    "diag=line([(0,0),(6,6)],color='green')\n",
    "show(grid6+l1+diag,aspect_ratio=1,axes=False)"
   ]
  },
  {
   "cell_type": "code",
   "execution_count": null,
   "metadata": {},
   "outputs": [],
   "source": [
    "l1=line([(0,0),(1,0),(1,1),(3,1),(3,5),(4,5),(5,5),(5,6),(6,6)],color='red',thickness=5)\n",
    "l2=line([(5,6),(5,7)],color='white')\n",
    "diag=line([(0,0),(6,6)],color='green')\n",
    "show(grid6+l1+diag+l2,aspect_ratio=1,axes=False)"
   ]
  },
  {
   "cell_type": "code",
   "execution_count": null,
   "metadata": {},
   "outputs": [],
   "source": [
    "l1=line([(0,0),(1,0),(1,1),(3,1),(3,5),(4,5),(5,5),(5,6),(6,6)],color='red',thickness=5)\n",
    "l2=line([(3,4),(4,4),(4,6),(5,6),(5,7)],color='red',linestyle=':',thickness=4)\n",
    "diag=line([(0,0),(6,6)],color='green')\n",
    "p=circle((3,4), 0.2,color='black',linestyle=':')\n",
    "show(grid6+l1+l2+diag+p,aspect_ratio=1,axes=False)"
   ]
  },
  {
   "cell_type": "code",
   "execution_count": null,
   "metadata": {},
   "outputs": [],
   "source": [
    "l1=line([(0,0),(1,0),(1,1),(2,1),(2,5),(3,5),(3,6),(6,6)],color='red',thickness=5)\n",
    "l2=line([(2,3),(4,3),(4,4),(5,4),(5,7)],color='red',linestyle=':',thickness=4)\n",
    "diag=line([(0,0),(6,6)],color='green')\n",
    "p=circle((2,3), 0.2,color='black',linestyle=':')\n",
    "show(grid6+l1+l2+diag+p,aspect_ratio=1,axes=False)"
   ]
  },
  {
   "cell_type": "markdown",
   "metadata": {},
   "source": [
    "## Catalan Number"
   ]
  },
  {
   "cell_type": "code",
   "execution_count": null,
   "metadata": {},
   "outputs": [],
   "source": [
    "n=var('n')\n",
    "assume(n,'integer')\n",
    "assume(n>=1)"
   ]
  },
  {
   "cell_type": "code",
   "execution_count": null,
   "metadata": {},
   "outputs": [],
   "source": [
    "eq=binomial(2*n,n)-binomial(2*n,n-1)==binomial(2*n,n)/(n+1)\n",
    "eq.show()"
   ]
  },
  {
   "cell_type": "code",
   "execution_count": null,
   "metadata": {},
   "outputs": [],
   "source": [
    "eq.subs(n=10)"
   ]
  },
  {
   "cell_type": "code",
   "execution_count": null,
   "metadata": {},
   "outputs": [],
   "source": [
    "[eq.subs(n=i) for i in [1..10]]"
   ]
  },
  {
   "cell_type": "code",
   "execution_count": null,
   "metadata": {},
   "outputs": [],
   "source": [
    "bool(eq)"
   ]
  },
  {
   "cell_type": "code",
   "execution_count": null,
   "metadata": {},
   "outputs": [],
   "source": [
    "bool(eq.simplify())"
   ]
  },
  {
   "cell_type": "code",
   "execution_count": null,
   "metadata": {},
   "outputs": [],
   "source": [
    "bool(eq.full_simplify())"
   ]
  },
  {
   "cell_type": "code",
   "execution_count": null,
   "metadata": {},
   "outputs": [],
   "source": [
    "[catalan_number(i) for i in [1..5]]"
   ]
  },
  {
   "cell_type": "markdown",
   "metadata": {},
   "source": [
    "## Binomial Theorem"
   ]
  },
  {
   "cell_type": "code",
   "execution_count": null,
   "metadata": {},
   "outputs": [],
   "source": [
    "a,b,k=var('a,b,k')\n",
    "x,y=var('x,y')"
   ]
  },
  {
   "cell_type": "code",
   "execution_count": null,
   "metadata": {},
   "outputs": [],
   "source": [
    "A=sum(binomial(n,k)*x^k*y^(n-k),k,0,n,hold=True)\n",
    "A.show()"
   ]
  },
  {
   "cell_type": "code",
   "execution_count": null,
   "metadata": {},
   "outputs": [],
   "source": [
    "A.unhold().show()"
   ]
  },
  {
   "cell_type": "code",
   "execution_count": null,
   "metadata": {},
   "outputs": [],
   "source": [
    "A=(3*a^2-5*b)^25\n",
    "A.show()"
   ]
  },
  {
   "cell_type": "code",
   "execution_count": null,
   "metadata": {},
   "outputs": [],
   "source": [
    "A1=expand(A)\n",
    "A1.show()"
   ]
  },
  {
   "cell_type": "code",
   "execution_count": null,
   "metadata": {},
   "outputs": [],
   "source": [
    "A2=A1.coefficient(a^14*b^18)\n",
    "A2"
   ]
  },
  {
   "cell_type": "code",
   "execution_count": null,
   "metadata": {},
   "outputs": [],
   "source": [
    "A3=binomial(25,7)*(3)^7*(-5)^18\n",
    "A3"
   ]
  },
  {
   "cell_type": "code",
   "execution_count": null,
   "metadata": {},
   "outputs": [],
   "source": [
    "bool(A3==A2)"
   ]
  },
  {
   "cell_type": "markdown",
   "metadata": {},
   "source": [
    "## Combination lock"
   ]
  },
  {
   "cell_type": "markdown",
   "metadata": {},
   "source": [
    "The number of ways of to choose $x_1,x_2,x_3 \\in [8]^3$"
   ]
  },
  {
   "cell_type": "code",
   "execution_count": null,
   "metadata": {},
   "outputs": [],
   "source": [
    "c = 0\n",
    "for i in [1..8]:\n",
    "    for j in [1..8]:\n",
    "        for k in [1..8]:\n",
    "            if (i+j+k)%8 == 0:\n",
    "                print i,j,k\n",
    "                c += 1\n",
    "print \"Total number %d\" % c"
   ]
  },
  {
   "cell_type": "code",
   "execution_count": null,
   "metadata": {},
   "outputs": [],
   "source": []
  }
 ],
 "metadata": {
  "kernelspec": {
   "display_name": "SageMath 8.4",
   "language": "",
   "name": "sagemath"
  },
  "language_info": {
   "codemirror_mode": {
    "name": "ipython",
    "version": 2
   },
   "file_extension": ".py",
   "mimetype": "text/x-python",
   "name": "python",
   "nbconvert_exporter": "python",
   "pygments_lexer": "ipython2",
   "version": "2.7.15"
  }
 },
 "nbformat": 4,
 "nbformat_minor": 2
}
