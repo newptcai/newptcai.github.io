{
 "cells": [
  {
   "cell_type": "markdown",
   "metadata": {},
   "source": [
    "How would you prove that\n",
    "$$\n",
    "f(x) = \\sinh(x) - \\frac{1}{2}\\left(\\frac{\\cosh(x)}{\\cosh(x-a)}\\right)^{x/a} \\ge 0\n",
    "$$\n",
    "for $a = \\log(2)/2$ and all $x > 0$.\n",
    "\n",
    "If you have Mathematica, this is not hard. You can also do the same thing with pencil and paper, but it will take you a bit longer 😌. \n",
    "\n",
    "However, there is a third way. \n",
    "You can use [interval arithmetic](https://en.wikipedia.org/wiki/Validated_numerics). \n",
    "These are computer algorithms and softwares that compute numeric values of mathematical function with **guaranteed** error bounds. \n",
    "\n",
    "In other words, these algorithms will not only give you an upper and lower bounds of $f(x)$,\n",
    "but also also **prove** these bounds are correct. 😮! \n",
    "\n",
    "In this post, I will show you how this can be done using [Julia](https://julialang.org/),  a high-efficiency programming language that looks like Python but faster.  It is currently my favourite choice of programming."
   ]
  },
  {
   "cell_type": "markdown",
   "metadata": {},
   "source": [
    "## Preparation"
   ]
  },
  {
   "cell_type": "markdown",
   "metadata": {},
   "source": [
    "Let's install all the interval arithmetic packages that we will need if you don't already have them."
   ]
  },
  {
   "cell_type": "code",
   "execution_count": null,
   "metadata": {},
   "outputs": [],
   "source": [
    "using Pkg;\n",
    "Pkg.add(\"IntervalArithmetic\");\n",
    "Pkg.add(\"IntervalRootFinding\");\n",
    "Pkg.add(\"IntervalOptimisation\");\n",
    "Pkg.add(\"ForwardDiff\")\n",
    "Pkg.add(\"Plots\")\n",
    "Pkg.add(\"GR\"); "
   ]
  },
  {
   "cell_type": "markdown",
   "metadata": {},
   "source": [
    "## Proof by picture"
   ]
  },
  {
   "cell_type": "markdown",
   "metadata": {},
   "source": [
    "Before we try it, it is always a good idea to see if what we are trying to prove is true on a picture. (Same reason people like tinder.)\n",
    "\n",
    "The expression has a constant $a$ in it, which is not a rational number. So to keep all the computations rigours, let's make it an interval. (Yes, in interval arithematic, all numbers are intervals 🤦.) We use [`IntervalArithmetic.jl`](https://github.com/JuliaIntervals/IntervalArithmetic.jl) for this. "
   ]
  },
  {
   "cell_type": "code",
   "execution_count": 2,
   "metadata": {},
   "outputs": [
    {
     "data": {
      "text/plain": [
       "[0.346573, 0.346574]"
      ]
     },
     "execution_count": 2,
     "metadata": {},
     "output_type": "execute_result"
    }
   ],
   "source": [
    "using IntervalArithmetic\n",
    "\n",
    "a = @interval 1/2*log((2))"
   ]
  },
  {
   "cell_type": "markdown",
   "metadata": {},
   "source": [
    "These two number are **guaranteed** true lower and upper bound of the *true* value of $a$.\n",
    "\n",
    "We can now define our $f(x)$."
   ]
  },
  {
   "cell_type": "code",
   "execution_count": 3,
   "metadata": {
    "slideshow": {
     "slide_type": "fragment"
    }
   },
   "outputs": [],
   "source": [
    "f(x)=sinh(x) - 1/2 * (cosh(x)/cosh(x-a))^(x/a);"
   ]
  },
  {
   "cell_type": "markdown",
   "metadata": {},
   "source": [
    "Let's try compute it at $1$"
   ]
  },
  {
   "cell_type": "code",
   "execution_count": 4,
   "metadata": {},
   "outputs": [
    {
     "data": {
      "text/plain": [
       "[0.193128, 0.193129]"
      ]
     },
     "execution_count": 4,
     "metadata": {},
     "output_type": "execute_result"
    }
   ],
   "source": [
    "f(1)"
   ]
  },
  {
   "cell_type": "markdown",
   "metadata": {},
   "source": [
    "Because we have defined $a$ to be an interval, when we compute $f(1)$, we also get an interval. If we have defined $a$ to be of type `Float64`, we will get a `Float64` instead.\n",
    "\n",
    "So this computation tells you that, the true value of $f(1)$ is guranteed to be between these two numbers. We do not see the proof. But in theory we can follow what the computer does line by line and get human proof.\n",
    "\n",
    "Now the picture."
   ]
  },
  {
   "cell_type": "code",
   "execution_count": 5,
   "metadata": {},
   "outputs": [
    {
     "data": {
      "image/svg+xml": [
       "<?xml version=\"1.0\" encoding=\"utf-8\"?>\n",
       "<svg xmlns=\"http://www.w3.org/2000/svg\" xmlns:xlink=\"http://www.w3.org/1999/xlink\" width=\"600\" height=\"400\" viewBox=\"0 0 2400 1600\">\n",
       "<defs>\n",
       "  <clipPath id=\"clip6900\">\n",
       "    <rect x=\"0\" y=\"0\" width=\"2400\" height=\"1600\"/>\n",
       "  </clipPath>\n",
       "</defs>\n",
       "<path clip-path=\"url(#clip6900)\" d=\"\n",
       "M0 1600 L2400 1600 L2400 0 L0 0  Z\n",
       "  \" fill=\"#ffffff\" fill-rule=\"evenodd\" fill-opacity=\"1\"/>\n",
       "<defs>\n",
       "  <clipPath id=\"clip6901\">\n",
       "    <rect x=\"480\" y=\"0\" width=\"1681\" height=\"1600\"/>\n",
       "  </clipPath>\n",
       "</defs>\n",
       "<path clip-path=\"url(#clip6900)\" d=\"\n",
       "M208.77 1487.47 L2352.76 1487.47 L2352.76 47.2441 L208.77 47.2441  Z\n",
       "  \" fill=\"#ffffff\" fill-rule=\"evenodd\" fill-opacity=\"1\"/>\n",
       "<defs>\n",
       "  <clipPath id=\"clip6902\">\n",
       "    <rect x=\"208\" y=\"47\" width=\"2145\" height=\"1441\"/>\n",
       "  </clipPath>\n",
       "</defs>\n",
       "<polyline clip-path=\"url(#clip6902)\" style=\"stroke:#000000; stroke-width:1.6; stroke-opacity:0.1; fill:none\" points=\"\n",
       "  365.765,1487.47 365.765,47.2441 \n",
       "  \"/>\n",
       "<polyline clip-path=\"url(#clip6902)\" style=\"stroke:#000000; stroke-width:1.6; stroke-opacity:0.1; fill:none\" points=\"\n",
       "  847.343,1487.47 847.343,47.2441 \n",
       "  \"/>\n",
       "<polyline clip-path=\"url(#clip6902)\" style=\"stroke:#000000; stroke-width:1.6; stroke-opacity:0.1; fill:none\" points=\"\n",
       "  1328.92,1487.47 1328.92,47.2441 \n",
       "  \"/>\n",
       "<polyline clip-path=\"url(#clip6902)\" style=\"stroke:#000000; stroke-width:1.6; stroke-opacity:0.1; fill:none\" points=\"\n",
       "  1810.5,1487.47 1810.5,47.2441 \n",
       "  \"/>\n",
       "<polyline clip-path=\"url(#clip6902)\" style=\"stroke:#000000; stroke-width:1.6; stroke-opacity:0.1; fill:none\" points=\"\n",
       "  2292.08,1487.47 2292.08,47.2441 \n",
       "  \"/>\n",
       "<polyline clip-path=\"url(#clip6902)\" style=\"stroke:#000000; stroke-width:1.6; stroke-opacity:0.1; fill:none\" points=\"\n",
       "  208.77,1273.31 2352.76,1273.31 \n",
       "  \"/>\n",
       "<polyline clip-path=\"url(#clip6902)\" style=\"stroke:#000000; stroke-width:1.6; stroke-opacity:0.1; fill:none\" points=\"\n",
       "  208.77,1045.66 2352.76,1045.66 \n",
       "  \"/>\n",
       "<polyline clip-path=\"url(#clip6902)\" style=\"stroke:#000000; stroke-width:1.6; stroke-opacity:0.1; fill:none\" points=\"\n",
       "  208.77,817.998 2352.76,817.998 \n",
       "  \"/>\n",
       "<polyline clip-path=\"url(#clip6902)\" style=\"stroke:#000000; stroke-width:1.6; stroke-opacity:0.1; fill:none\" points=\"\n",
       "  208.77,590.34 2352.76,590.34 \n",
       "  \"/>\n",
       "<polyline clip-path=\"url(#clip6902)\" style=\"stroke:#000000; stroke-width:1.6; stroke-opacity:0.1; fill:none\" points=\"\n",
       "  208.77,362.682 2352.76,362.682 \n",
       "  \"/>\n",
       "<polyline clip-path=\"url(#clip6902)\" style=\"stroke:#000000; stroke-width:1.6; stroke-opacity:0.1; fill:none\" points=\"\n",
       "  208.77,135.023 2352.76,135.023 \n",
       "  \"/>\n",
       "<polyline clip-path=\"url(#clip6900)\" style=\"stroke:#000000; stroke-width:3.2; stroke-opacity:1; fill:none\" points=\"\n",
       "  208.77,1487.47 2352.76,1487.47 \n",
       "  \"/>\n",
       "<polyline clip-path=\"url(#clip6900)\" style=\"stroke:#000000; stroke-width:3.2; stroke-opacity:1; fill:none\" points=\"\n",
       "  208.77,1487.47 208.77,47.2441 \n",
       "  \"/>\n",
       "<polyline clip-path=\"url(#clip6900)\" style=\"stroke:#000000; stroke-width:3.2; stroke-opacity:1; fill:none\" points=\"\n",
       "  365.765,1487.47 365.765,1465.87 \n",
       "  \"/>\n",
       "<polyline clip-path=\"url(#clip6900)\" style=\"stroke:#000000; stroke-width:3.2; stroke-opacity:1; fill:none\" points=\"\n",
       "  847.343,1487.47 847.343,1465.87 \n",
       "  \"/>\n",
       "<polyline clip-path=\"url(#clip6900)\" style=\"stroke:#000000; stroke-width:3.2; stroke-opacity:1; fill:none\" points=\"\n",
       "  1328.92,1487.47 1328.92,1465.87 \n",
       "  \"/>\n",
       "<polyline clip-path=\"url(#clip6900)\" style=\"stroke:#000000; stroke-width:3.2; stroke-opacity:1; fill:none\" points=\"\n",
       "  1810.5,1487.47 1810.5,1465.87 \n",
       "  \"/>\n",
       "<polyline clip-path=\"url(#clip6900)\" style=\"stroke:#000000; stroke-width:3.2; stroke-opacity:1; fill:none\" points=\"\n",
       "  2292.08,1487.47 2292.08,1465.87 \n",
       "  \"/>\n",
       "<polyline clip-path=\"url(#clip6900)\" style=\"stroke:#000000; stroke-width:3.2; stroke-opacity:1; fill:none\" points=\"\n",
       "  208.77,1273.31 240.93,1273.31 \n",
       "  \"/>\n",
       "<polyline clip-path=\"url(#clip6900)\" style=\"stroke:#000000; stroke-width:3.2; stroke-opacity:1; fill:none\" points=\"\n",
       "  208.77,1045.66 240.93,1045.66 \n",
       "  \"/>\n",
       "<polyline clip-path=\"url(#clip6900)\" style=\"stroke:#000000; stroke-width:3.2; stroke-opacity:1; fill:none\" points=\"\n",
       "  208.77,817.998 240.93,817.998 \n",
       "  \"/>\n",
       "<polyline clip-path=\"url(#clip6900)\" style=\"stroke:#000000; stroke-width:3.2; stroke-opacity:1; fill:none\" points=\"\n",
       "  208.77,590.34 240.93,590.34 \n",
       "  \"/>\n",
       "<polyline clip-path=\"url(#clip6900)\" style=\"stroke:#000000; stroke-width:3.2; stroke-opacity:1; fill:none\" points=\"\n",
       "  208.77,362.682 240.93,362.682 \n",
       "  \"/>\n",
       "<polyline clip-path=\"url(#clip6900)\" style=\"stroke:#000000; stroke-width:3.2; stroke-opacity:1; fill:none\" points=\"\n",
       "  208.77,135.023 240.93,135.023 \n",
       "  \"/>\n",
       "<g clip-path=\"url(#clip6900)\">\n",
       "<text style=\"fill:#000000; fill-opacity:1; font-family:Arial,Helvetica Neue,Helvetica,sans-serif; font-size:48px; text-anchor:middle;\" transform=\"rotate(0, 365.765, 1541.47)\" x=\"365.765\" y=\"1541.47\">0.0</text>\n",
       "</g>\n",
       "<g clip-path=\"url(#clip6900)\">\n",
       "<text style=\"fill:#000000; fill-opacity:1; font-family:Arial,Helvetica Neue,Helvetica,sans-serif; font-size:48px; text-anchor:middle;\" transform=\"rotate(0, 847.343, 1541.47)\" x=\"847.343\" y=\"1541.47\">2.5</text>\n",
       "</g>\n",
       "<g clip-path=\"url(#clip6900)\">\n",
       "<text style=\"fill:#000000; fill-opacity:1; font-family:Arial,Helvetica Neue,Helvetica,sans-serif; font-size:48px; text-anchor:middle;\" transform=\"rotate(0, 1328.92, 1541.47)\" x=\"1328.92\" y=\"1541.47\">5.0</text>\n",
       "</g>\n",
       "<g clip-path=\"url(#clip6900)\">\n",
       "<text style=\"fill:#000000; fill-opacity:1; font-family:Arial,Helvetica Neue,Helvetica,sans-serif; font-size:48px; text-anchor:middle;\" transform=\"rotate(0, 1810.5, 1541.47)\" x=\"1810.5\" y=\"1541.47\">7.5</text>\n",
       "</g>\n",
       "<g clip-path=\"url(#clip6900)\">\n",
       "<text style=\"fill:#000000; fill-opacity:1; font-family:Arial,Helvetica Neue,Helvetica,sans-serif; font-size:48px; text-anchor:middle;\" transform=\"rotate(0, 2292.08, 1541.47)\" x=\"2292.08\" y=\"1541.47\">10.0</text>\n",
       "</g>\n",
       "<g clip-path=\"url(#clip6900)\">\n",
       "<text style=\"fill:#000000; fill-opacity:1; font-family:Arial,Helvetica Neue,Helvetica,sans-serif; font-size:48px; text-anchor:end;\" transform=\"rotate(0, 184.77, 1290.81)\" x=\"184.77\" y=\"1290.81\">-1.00</text>\n",
       "</g>\n",
       "<g clip-path=\"url(#clip6900)\">\n",
       "<text style=\"fill:#000000; fill-opacity:1; font-family:Arial,Helvetica Neue,Helvetica,sans-serif; font-size:48px; text-anchor:end;\" transform=\"rotate(0, 184.77, 1063.16)\" x=\"184.77\" y=\"1063.16\">-0.75</text>\n",
       "</g>\n",
       "<g clip-path=\"url(#clip6900)\">\n",
       "<text style=\"fill:#000000; fill-opacity:1; font-family:Arial,Helvetica Neue,Helvetica,sans-serif; font-size:48px; text-anchor:end;\" transform=\"rotate(0, 184.77, 835.498)\" x=\"184.77\" y=\"835.498\">-0.50</text>\n",
       "</g>\n",
       "<g clip-path=\"url(#clip6900)\">\n",
       "<text style=\"fill:#000000; fill-opacity:1; font-family:Arial,Helvetica Neue,Helvetica,sans-serif; font-size:48px; text-anchor:end;\" transform=\"rotate(0, 184.77, 607.84)\" x=\"184.77\" y=\"607.84\">-0.25</text>\n",
       "</g>\n",
       "<g clip-path=\"url(#clip6900)\">\n",
       "<text style=\"fill:#000000; fill-opacity:1; font-family:Arial,Helvetica Neue,Helvetica,sans-serif; font-size:48px; text-anchor:end;\" transform=\"rotate(0, 184.77, 380.182)\" x=\"184.77\" y=\"380.182\">0.00</text>\n",
       "</g>\n",
       "<g clip-path=\"url(#clip6900)\">\n",
       "<text style=\"fill:#000000; fill-opacity:1; font-family:Arial,Helvetica Neue,Helvetica,sans-serif; font-size:48px; text-anchor:end;\" transform=\"rotate(0, 184.77, 152.523)\" x=\"184.77\" y=\"152.523\">0.25</text>\n",
       "</g>\n",
       "<polyline clip-path=\"url(#clip6902)\" style=\"stroke:#009af9; stroke-width:3.2; stroke-opacity:1; fill:none\" points=\"\n",
       "  269.449,1446.71 274.387,1406.66 279.326,1367.6 284.264,1329.5 289.202,1292.33 312.032,1131.95 334.862,988.62 357.692,860.194 380.523,744.848 403.353,641.103 \n",
       "  426.183,547.829 449.013,464.236 471.843,389.816 499.283,312.1 526.723,246.903 554.163,193.924 581.603,152.681 604.803,126.415 628.004,107.384 651.204,94.851 \n",
       "  674.404,88.0053 724.808,88.724 775.211,104.243 821.679,125.936 868.147,150.819 967.784,204.399 1083.22,256.091 1185.81,290.038 1275.77,311.656 1373.85,328.434 \n",
       "  1472.52,340.006 1581.6,348.459 1685.4,353.634 1793.32,357.07 1884.16,358.946 1995.08,360.421 2099.34,361.278 2266.37,362.033 2292.08,362.106 \n",
       "  \"/>\n",
       "<path clip-path=\"url(#clip6900)\" d=\"\n",
       "M1989.93 251.724 L2280.76 251.724 L2280.76 130.764 L1989.93 130.764  Z\n",
       "  \" fill=\"#ffffff\" fill-rule=\"evenodd\" fill-opacity=\"1\"/>\n",
       "<polyline clip-path=\"url(#clip6900)\" style=\"stroke:#000000; stroke-width:3.2; stroke-opacity:1; fill:none\" points=\"\n",
       "  1989.93,251.724 2280.76,251.724 2280.76,130.764 1989.93,130.764 1989.93,251.724 \n",
       "  \"/>\n",
       "<polyline clip-path=\"url(#clip6900)\" style=\"stroke:#009af9; stroke-width:3.2; stroke-opacity:1; fill:none\" points=\"\n",
       "  2013.93,191.244 2157.93,191.244 \n",
       "  \"/>\n",
       "<g clip-path=\"url(#clip6900)\">\n",
       "<text style=\"fill:#000000; fill-opacity:1; font-family:Arial,Helvetica Neue,Helvetica,sans-serif; font-size:48px; text-anchor:start;\" transform=\"rotate(0, 2181.93, 208.744)\" x=\"2181.93\" y=\"208.744\">y1</text>\n",
       "</g>\n",
       "</svg>\n"
      ]
     },
     "execution_count": 5,
     "metadata": {},
     "output_type": "execute_result"
    }
   ],
   "source": [
    "using Plots\n",
    "gr()\n",
    "plot(x->f(x).lo, -1/2, 10)"
   ]
  },
  {
   "cell_type": "markdown",
   "metadata": {},
   "source": [
    "So I lied to you earlier 😑️. The function has a root on $(0,\\infty)$. It looks like to be somewhere between $0$ and $1$. Let's see if this is true. And above this root, $f(x)$ seems to remain positve. Can we show this?"
   ]
  },
  {
   "cell_type": "markdown",
   "metadata": {},
   "source": [
    "## The first (only?) root"
   ]
  },
  {
   "cell_type": "markdown",
   "metadata": {},
   "source": [
    "We can try [`IntervalRootFinding.jl`](https://github.com/JuliaIntervals/IntervalRootFinding.jl) to find at least where the root is.\n",
    "\n",
    "Because we have defined $a$ to be an interval, when we compute $f(1)$, we also get an interval. (If we have defined $a$ to be of type `Float64`, we will get a `Float64` instead.)"
   ]
  },
  {
   "cell_type": "code",
   "execution_count": 6,
   "metadata": {},
   "outputs": [
    {
     "data": {
      "text/plain": [
       "1-element Array{Root{Interval{Float64}},1}:\n",
       " Root([0.597845, 0.597846], :unique)"
      ]
     },
     "execution_count": 6,
     "metadata": {},
     "output_type": "execute_result"
    }
   ],
   "source": [
    "using IntervalRootFinding\n",
    "roots(f, @interval(0, 1))"
   ]
  },
  {
   "cell_type": "markdown",
   "metadata": {},
   "source": [
    "Yes! \n",
    "There is one root of $f(x)$ in $[0,1]$. The algorithm even tells you that it's unique.\n",
    "We get a **true proof**  for this fact without breaking a sweat 😀️. "
   ]
  },
  {
   "cell_type": "markdown",
   "metadata": {},
   "source": [
    "## More roots?\n",
    "\n",
    "The problem then is to show that there is no other roots. Let try $[1,2]$ first."
   ]
  },
  {
   "cell_type": "code",
   "execution_count": 7,
   "metadata": {},
   "outputs": [
    {
     "data": {
      "text/plain": [
       "0-element Array{Root{Interval{Float64}},1}"
      ]
     },
     "execution_count": 7,
     "metadata": {},
     "output_type": "execute_result"
    }
   ],
   "source": [
    "roots(f, @interval(1, 2))"
   ]
  },
  {
   "cell_type": "markdown",
   "metadata": {},
   "source": [
    "There is nothing. Let's try $[2,4]$"
   ]
  },
  {
   "cell_type": "code",
   "execution_count": 8,
   "metadata": {},
   "outputs": [
    {
     "data": {
      "text/plain": [
       "0-element Array{Root{Interval{Float64}},1}"
      ]
     },
     "execution_count": 8,
     "metadata": {},
     "output_type": "execute_result"
    }
   ],
   "source": [
    "roots(f, @interval(2, 4))"
   ]
  },
  {
   "cell_type": "markdown",
   "metadata": {},
   "source": [
    "Again, no roots. \n",
    "But there are two problems here. \n",
    "First, it gets rather slow when you try larger interval, say $[4,8]$. \n",
    "Two, if the aim is to *prove* there are no roots on $[1, \\infty]$, we will be able to do this by checking finite many intervals."
   ]
  },
  {
   "cell_type": "markdown",
   "metadata": {},
   "source": [
    "For some very simple functions, like $x$, $e^{2x}$, the algorithm can actually do it. But not our $f(x)$."
   ]
  },
  {
   "cell_type": "code",
   "execution_count": 9,
   "metadata": {},
   "outputs": [
    {
     "data": {
      "text/plain": [
       "0-element Array{Root{Interval{Float64}},1}"
      ]
     },
     "execution_count": 9,
     "metadata": {},
     "output_type": "execute_result"
    }
   ],
   "source": [
    "roots(x -> x, 1..∞)"
   ]
  },
  {
   "cell_type": "code",
   "execution_count": 10,
   "metadata": {},
   "outputs": [
    {
     "data": {
      "text/plain": [
       "0-element Array{Root{Interval{Float64}},1}"
      ]
     },
     "execution_count": 10,
     "metadata": {},
     "output_type": "execute_result"
    }
   ],
   "source": [
    "roots(x -> exp(x^2), 1..∞)"
   ]
  },
  {
   "cell_type": "markdown",
   "metadata": {},
   "source": [
    "## Simplified problem\n",
    "\n",
    "So here's the truth about numeric methods. \n",
    "You can rarely avoid doing some symbolic computation.\n",
    "You should combine both the strength of numeric and symbolic.\n",
    "\n",
    "I massaged the problem a bit in Mathematica and found it is equivalent to show that\n",
    "$$\n",
    "\\log (1-s)+\\frac{\\log \\left(\\frac{1}{2 e^2}\\right) (\\log (s+1)-\\log (2 s+1))}{\\log (2)} \\ge 0 \n",
    "$$\n",
    "on $s \\in [0,e^{-2}]$.\n",
    "(Let's not to worry how I got it. That's not the point for today.)\n",
    "\n",
    "Let's define another function $g(s)$ for the left-hand-side."
   ]
  },
  {
   "cell_type": "code",
   "execution_count": 11,
   "metadata": {},
   "outputs": [
    {
     "data": {
      "text/plain": [
       "g (generic function with 1 method)"
      ]
     },
     "execution_count": 11,
     "metadata": {},
     "output_type": "execute_result"
    }
   ],
   "source": [
    "g(s) =  log(-s + 1)-(log(2*s + 1) - log(s + 1))*log(1/2/exp(2))/log(2)"
   ]
  },
  {
   "cell_type": "markdown",
   "metadata": {},
   "source": [
    "How does it look like?"
   ]
  },
  {
   "cell_type": "code",
   "execution_count": 12,
   "metadata": {},
   "outputs": [
    {
     "data": {
      "image/svg+xml": [
       "<?xml version=\"1.0\" encoding=\"utf-8\"?>\n",
       "<svg xmlns=\"http://www.w3.org/2000/svg\" xmlns:xlink=\"http://www.w3.org/1999/xlink\" width=\"600\" height=\"400\" viewBox=\"0 0 2400 1600\">\n",
       "<defs>\n",
       "  <clipPath id=\"clip7300\">\n",
       "    <rect x=\"0\" y=\"0\" width=\"2400\" height=\"1600\"/>\n",
       "  </clipPath>\n",
       "</defs>\n",
       "<path clip-path=\"url(#clip7300)\" d=\"\n",
       "M0 1600 L2400 1600 L2400 0 L0 0  Z\n",
       "  \" fill=\"#ffffff\" fill-rule=\"evenodd\" fill-opacity=\"1\"/>\n",
       "<defs>\n",
       "  <clipPath id=\"clip7301\">\n",
       "    <rect x=\"480\" y=\"0\" width=\"1681\" height=\"1600\"/>\n",
       "  </clipPath>\n",
       "</defs>\n",
       "<path clip-path=\"url(#clip7300)\" d=\"\n",
       "M182.008 1487.47 L2352.76 1487.47 L2352.76 47.2441 L182.008 47.2441  Z\n",
       "  \" fill=\"#ffffff\" fill-rule=\"evenodd\" fill-opacity=\"1\"/>\n",
       "<defs>\n",
       "  <clipPath id=\"clip7302\">\n",
       "    <rect x=\"182\" y=\"47\" width=\"2172\" height=\"1441\"/>\n",
       "  </clipPath>\n",
       "</defs>\n",
       "<polyline clip-path=\"url(#clip7302)\" style=\"stroke:#000000; stroke-width:1.6; stroke-opacity:0.1; fill:none\" points=\"\n",
       "  510.789,1487.47 510.789,47.2441 \n",
       "  \"/>\n",
       "<polyline clip-path=\"url(#clip7302)\" style=\"stroke:#000000; stroke-width:1.6; stroke-opacity:0.1; fill:none\" points=\"\n",
       "  889.085,1487.47 889.085,47.2441 \n",
       "  \"/>\n",
       "<polyline clip-path=\"url(#clip7302)\" style=\"stroke:#000000; stroke-width:1.6; stroke-opacity:0.1; fill:none\" points=\"\n",
       "  1267.38,1487.47 1267.38,47.2441 \n",
       "  \"/>\n",
       "<polyline clip-path=\"url(#clip7302)\" style=\"stroke:#000000; stroke-width:1.6; stroke-opacity:0.1; fill:none\" points=\"\n",
       "  1645.68,1487.47 1645.68,47.2441 \n",
       "  \"/>\n",
       "<polyline clip-path=\"url(#clip7302)\" style=\"stroke:#000000; stroke-width:1.6; stroke-opacity:0.1; fill:none\" points=\"\n",
       "  2023.98,1487.47 2023.98,47.2441 \n",
       "  \"/>\n",
       "<polyline clip-path=\"url(#clip7302)\" style=\"stroke:#000000; stroke-width:1.6; stroke-opacity:0.1; fill:none\" points=\"\n",
       "  182.008,1225.74 2352.76,1225.74 \n",
       "  \"/>\n",
       "<polyline clip-path=\"url(#clip7302)\" style=\"stroke:#000000; stroke-width:1.6; stroke-opacity:0.1; fill:none\" points=\"\n",
       "  182.008,896.986 2352.76,896.986 \n",
       "  \"/>\n",
       "<polyline clip-path=\"url(#clip7302)\" style=\"stroke:#000000; stroke-width:1.6; stroke-opacity:0.1; fill:none\" points=\"\n",
       "  182.008,568.23 2352.76,568.23 \n",
       "  \"/>\n",
       "<polyline clip-path=\"url(#clip7302)\" style=\"stroke:#000000; stroke-width:1.6; stroke-opacity:0.1; fill:none\" points=\"\n",
       "  182.008,239.474 2352.76,239.474 \n",
       "  \"/>\n",
       "<polyline clip-path=\"url(#clip7300)\" style=\"stroke:#000000; stroke-width:3.2; stroke-opacity:1; fill:none\" points=\"\n",
       "  182.008,1487.47 2352.76,1487.47 \n",
       "  \"/>\n",
       "<polyline clip-path=\"url(#clip7300)\" style=\"stroke:#000000; stroke-width:3.2; stroke-opacity:1; fill:none\" points=\"\n",
       "  182.008,1487.47 182.008,47.2441 \n",
       "  \"/>\n",
       "<polyline clip-path=\"url(#clip7300)\" style=\"stroke:#000000; stroke-width:3.2; stroke-opacity:1; fill:none\" points=\"\n",
       "  510.789,1487.47 510.789,1465.87 \n",
       "  \"/>\n",
       "<polyline clip-path=\"url(#clip7300)\" style=\"stroke:#000000; stroke-width:3.2; stroke-opacity:1; fill:none\" points=\"\n",
       "  889.085,1487.47 889.085,1465.87 \n",
       "  \"/>\n",
       "<polyline clip-path=\"url(#clip7300)\" style=\"stroke:#000000; stroke-width:3.2; stroke-opacity:1; fill:none\" points=\"\n",
       "  1267.38,1487.47 1267.38,1465.87 \n",
       "  \"/>\n",
       "<polyline clip-path=\"url(#clip7300)\" style=\"stroke:#000000; stroke-width:3.2; stroke-opacity:1; fill:none\" points=\"\n",
       "  1645.68,1487.47 1645.68,1465.87 \n",
       "  \"/>\n",
       "<polyline clip-path=\"url(#clip7300)\" style=\"stroke:#000000; stroke-width:3.2; stroke-opacity:1; fill:none\" points=\"\n",
       "  2023.98,1487.47 2023.98,1465.87 \n",
       "  \"/>\n",
       "<polyline clip-path=\"url(#clip7300)\" style=\"stroke:#000000; stroke-width:3.2; stroke-opacity:1; fill:none\" points=\"\n",
       "  182.008,1225.74 214.569,1225.74 \n",
       "  \"/>\n",
       "<polyline clip-path=\"url(#clip7300)\" style=\"stroke:#000000; stroke-width:3.2; stroke-opacity:1; fill:none\" points=\"\n",
       "  182.008,896.986 214.569,896.986 \n",
       "  \"/>\n",
       "<polyline clip-path=\"url(#clip7300)\" style=\"stroke:#000000; stroke-width:3.2; stroke-opacity:1; fill:none\" points=\"\n",
       "  182.008,568.23 214.569,568.23 \n",
       "  \"/>\n",
       "<polyline clip-path=\"url(#clip7300)\" style=\"stroke:#000000; stroke-width:3.2; stroke-opacity:1; fill:none\" points=\"\n",
       "  182.008,239.474 214.569,239.474 \n",
       "  \"/>\n",
       "<g clip-path=\"url(#clip7300)\">\n",
       "<text style=\"fill:#000000; fill-opacity:1; font-family:Arial,Helvetica Neue,Helvetica,sans-serif; font-size:48px; text-anchor:middle;\" transform=\"rotate(0, 510.789, 1541.47)\" x=\"510.789\" y=\"1541.47\">-0.10</text>\n",
       "</g>\n",
       "<g clip-path=\"url(#clip7300)\">\n",
       "<text style=\"fill:#000000; fill-opacity:1; font-family:Arial,Helvetica Neue,Helvetica,sans-serif; font-size:48px; text-anchor:middle;\" transform=\"rotate(0, 889.085, 1541.47)\" x=\"889.085\" y=\"1541.47\">-0.05</text>\n",
       "</g>\n",
       "<g clip-path=\"url(#clip7300)\">\n",
       "<text style=\"fill:#000000; fill-opacity:1; font-family:Arial,Helvetica Neue,Helvetica,sans-serif; font-size:48px; text-anchor:middle;\" transform=\"rotate(0, 1267.38, 1541.47)\" x=\"1267.38\" y=\"1541.47\">0.00</text>\n",
       "</g>\n",
       "<g clip-path=\"url(#clip7300)\">\n",
       "<text style=\"fill:#000000; fill-opacity:1; font-family:Arial,Helvetica Neue,Helvetica,sans-serif; font-size:48px; text-anchor:middle;\" transform=\"rotate(0, 1645.68, 1541.47)\" x=\"1645.68\" y=\"1541.47\">0.05</text>\n",
       "</g>\n",
       "<g clip-path=\"url(#clip7300)\">\n",
       "<text style=\"fill:#000000; fill-opacity:1; font-family:Arial,Helvetica Neue,Helvetica,sans-serif; font-size:48px; text-anchor:middle;\" transform=\"rotate(0, 2023.98, 1541.47)\" x=\"2023.98\" y=\"1541.47\">0.10</text>\n",
       "</g>\n",
       "<g clip-path=\"url(#clip7300)\">\n",
       "<text style=\"fill:#000000; fill-opacity:1; font-family:Arial,Helvetica Neue,Helvetica,sans-serif; font-size:48px; text-anchor:end;\" transform=\"rotate(0, 158.008, 1243.24)\" x=\"158.008\" y=\"1243.24\">-0.4</text>\n",
       "</g>\n",
       "<g clip-path=\"url(#clip7300)\">\n",
       "<text style=\"fill:#000000; fill-opacity:1; font-family:Arial,Helvetica Neue,Helvetica,sans-serif; font-size:48px; text-anchor:end;\" transform=\"rotate(0, 158.008, 914.486)\" x=\"158.008\" y=\"914.486\">-0.2</text>\n",
       "</g>\n",
       "<g clip-path=\"url(#clip7300)\">\n",
       "<text style=\"fill:#000000; fill-opacity:1; font-family:Arial,Helvetica Neue,Helvetica,sans-serif; font-size:48px; text-anchor:end;\" transform=\"rotate(0, 158.008, 585.73)\" x=\"158.008\" y=\"585.73\">0.0</text>\n",
       "</g>\n",
       "<g clip-path=\"url(#clip7300)\">\n",
       "<text style=\"fill:#000000; fill-opacity:1; font-family:Arial,Helvetica Neue,Helvetica,sans-serif; font-size:48px; text-anchor:end;\" transform=\"rotate(0, 158.008, 256.974)\" x=\"158.008\" y=\"256.974\">0.2</text>\n",
       "</g>\n",
       "<polyline clip-path=\"url(#clip7302)\" style=\"stroke:#009af9; stroke-width:3.2; stroke-opacity:1; fill:none\" points=\"\n",
       "  243.444,1446.71 263.443,1423.91 448.365,1225.82 559.495,1117.01 653.454,1030.47 755.52,941.736 849.615,864.5 950.496,786.263 1067.38,701.157 1171.24,630.206 \n",
       "  1262.33,571.403 1361.63,510.732 1461.53,453.139 1571.98,393.267 1677.07,339.819 1786.33,287.7 1878.31,246.431 1990.61,199.126 2096.17,157.613 2265.29,96.7725 \n",
       "  2291.32,88.0053 \n",
       "  \"/>\n",
       "<path clip-path=\"url(#clip7300)\" d=\"\n",
       "M1989.93 251.724 L2280.76 251.724 L2280.76 130.764 L1989.93 130.764  Z\n",
       "  \" fill=\"#ffffff\" fill-rule=\"evenodd\" fill-opacity=\"1\"/>\n",
       "<polyline clip-path=\"url(#clip7300)\" style=\"stroke:#000000; stroke-width:3.2; stroke-opacity:1; fill:none\" points=\"\n",
       "  1989.93,251.724 2280.76,251.724 2280.76,130.764 1989.93,130.764 1989.93,251.724 \n",
       "  \"/>\n",
       "<polyline clip-path=\"url(#clip7300)\" style=\"stroke:#009af9; stroke-width:3.2; stroke-opacity:1; fill:none\" points=\"\n",
       "  2013.93,191.244 2157.93,191.244 \n",
       "  \"/>\n",
       "<g clip-path=\"url(#clip7300)\">\n",
       "<text style=\"fill:#000000; fill-opacity:1; font-family:Arial,Helvetica Neue,Helvetica,sans-serif; font-size:48px; text-anchor:start;\" transform=\"rotate(0, 2181.93, 208.744)\" x=\"2181.93\" y=\"208.744\">y1</text>\n",
       "</g>\n",
       "</svg>\n"
      ]
     },
     "execution_count": 12,
     "metadata": {},
     "output_type": "execute_result"
    }
   ],
   "source": [
    "box = @interval -exp(-2) exp(-2)\n",
    "plot(g, box.lo, box.hi)"
   ]
  },
  {
   "cell_type": "markdown",
   "metadata": {},
   "source": [
    "So it looks like that there is only one root of $g(s)$ on $[-e^{-2}, e^{2}]$. Is it true?"
   ]
  },
  {
   "cell_type": "code",
   "execution_count": 13,
   "metadata": {},
   "outputs": [
    {
     "data": {
      "text/plain": [
       "1-element Array{Root{Interval{Float64}},1}:\n",
       " Root([-6.00462e-09, 5.1049e-09], :unique)"
      ]
     },
     "execution_count": 13,
     "metadata": {},
     "output_type": "execute_result"
    }
   ],
   "source": [
    "roots(g, box)"
   ]
  },
  {
   "cell_type": "markdown",
   "metadata": {},
   "source": [
    "Yes! And we know *analytically* that $g(0)=0$. So $0$ is the only root of $g$. That means if $g(e^{-2})> 0$, $g(s)$ must remain non-negative between $0$ and $e^{-2}$. Let's check"
   ]
  },
  {
   "cell_type": "code",
   "execution_count": 14,
   "metadata": {},
   "outputs": [
    {
     "data": {
      "text/plain": [
       "true"
      ]
     },
     "execution_count": 14,
     "metadata": {},
     "output_type": "execute_result"
    }
   ],
   "source": [
    "b = @interval box.hi\n",
    "g(b) >= 0"
   ]
  },
  {
   "cell_type": "markdown",
   "metadata": {},
   "source": [
    "So we are done!\n",
    "\n",
    "Alternatively, you can use [`ForwardDiff.jl`](https://github.com/JuliaDiff/ForwardDiff.jl) to show that the derivative of $g(s)$ is positive on the interval. Because then $g(s)$ must have only one root at $0$."
   ]
  },
  {
   "cell_type": "code",
   "execution_count": 15,
   "metadata": {},
   "outputs": [
    {
     "data": {
      "text/plain": [
       "true"
      ]
     },
     "execution_count": 15,
     "metadata": {},
     "output_type": "execute_result"
    }
   ],
   "source": [
    "using ForwardDiff;\n",
    "\n",
    "ForwardDiff.derivative(g, box) > 0"
   ]
  },
  {
   "cell_type": "markdown",
   "metadata": {},
   "source": [
    "## Final thoughts\n",
    "\n",
    "Let's recap what we have learned --\n",
    "\n",
    "1. We can get guaranteed lower and upper numeric bounds for a function at fixed points, or on bounded interval.\n",
    "1. If we want to prove something on unbounded interval, we shoud simplify the problem with symbolic computation. And try to convert the problem to bounded domain.\n",
    "1. To show that a function has only one root on a bounded domain, you can either use `IntervalRootFinding.jl` directly, or use `ForwardDiff.jl` to show that the derivative is positive or negative.\n",
    "\n",
    "Although is it truly necessary that we went through all these troubles?\n",
    "Why cannot we believe the picture and move on with our life?\n",
    "Isn't a picture is enough for most person to fall in love on Tinder?  😁"
   ]
  }
 ],
 "metadata": {
  "hide_input": false,
  "kernelspec": {
   "display_name": "Julia 1.4.0",
   "language": "julia",
   "name": "julia-1.4"
  },
  "language_info": {
   "file_extension": ".jl",
   "mimetype": "application/julia",
   "name": "julia",
   "version": "1.4.0"
  }
 },
 "nbformat": 4,
 "nbformat_minor": 4
}
