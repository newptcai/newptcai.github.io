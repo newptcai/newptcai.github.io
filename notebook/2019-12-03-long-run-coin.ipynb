{
 "cells": [
  {
   "cell_type": "markdown",
   "metadata": {},
   "source": [
    "This week's puzzle is the following\n",
    "\n",
    "\n",
    "----\n",
    "\n",
    "Fix an integer $k\\geq 2$. Denote by $X_k$ the (random) number of independent tosses with a fair coin until $k$ consecutive tails occur. Determine the probability distribution of $X_k$.\n",
    "\n",
    "----\n",
    "\n",
    "If we use $H$ for head and $T$ for tail, and for simplicy take $k=3$, then a coin toss until we hit $3$ consecutive tails might look like this\n",
    "\n",
    "$$\n",
    "TTHTHHTTHTTT\n",
    "$$\n",
    "\n",
    "We can decompose it into segments as this\n",
    "\n",
    "$$\n",
    "(TTH)(TH)(H)(TTH)TTT\n",
    "$$\n",
    "\n",
    "i.e., segements of less than 2 $T$ followed by 1 $H$, with 3 $T$ at the end.\n",
    "\n",
    "This observation gives the following generating function"
   ]
  },
  {
   "cell_type": "code",
   "execution_count": 1,
   "metadata": {},
   "outputs": [
    {
     "data": {
      "text/html": [
       "<html><script type=\"math/tex; mode=display\">\\newcommand{\\Bold}[1]{\\mathbf{#1}}-\\frac{z^{k}}{\\frac{{\\left(z^{k} - 1\\right)} z}{z - 1} - 1}</script></html>"
      ],
      "text/plain": [
       "-z^k/((z^k - 1)*z/(z - 1) - 1)"
      ]
     },
     "metadata": {},
     "output_type": "display_data"
    }
   ],
   "source": [
    "z=var('z')\n",
    "w(k,z)=z^k*1/(1-z*(1-z^k)/(1-z))\n",
    "show(w(k,z))"
   ]
  },
  {
   "cell_type": "markdown",
   "metadata": {},
   "source": [
    "In other words, $a_{k,n}:=[z^n]w(k,z)$, the coefficient of $z^k$ in $w(k,z)$ is the number of coin flip sequence of length with $k$ consecutive T at the end and no such pattern anywhere else.\n",
    "\n",
    "Let's expeirement a bit. The first few $a_{2,n}$ are"
   ]
  },
  {
   "cell_type": "code",
   "execution_count": 2,
   "metadata": {},
   "outputs": [
    {
     "data": {
      "text/plain": [
       "[0, 0, 1, 1, 2, 3, 5, 8, 13, 21, 34, 55, 89]"
      ]
     },
     "execution_count": 2,
     "metadata": {},
     "output_type": "execute_result"
    }
   ],
   "source": [
    "w(2,z).taylor(z,0,12).list()"
   ]
  },
  {
   "cell_type": "markdown",
   "metadata": {},
   "source": [
    "It does not take long to see that this is the Fibonacci sequence. What about $a_{3,n}$?"
   ]
  },
  {
   "cell_type": "code",
   "execution_count": 3,
   "metadata": {},
   "outputs": [
    {
     "data": {
      "text/plain": [
       "[0, 0, 0, 1, 1, 2, 4, 7, 13, 24, 44, 81, 149]"
      ]
     },
     "execution_count": 3,
     "metadata": {},
     "output_type": "execute_result"
    }
   ],
   "source": [
    "w(3,z).taylor(z,0,12).list()"
   ]
  },
  {
   "cell_type": "markdown",
   "metadata": {},
   "source": [
    "The pattern is also clear here.\n",
    "\n",
    "$$\n",
    "a_{3,n}\n",
    "=\n",
    "\\begin{cases}\n",
    "0 & (n<3)\\\\\n",
    "1 & (n=3) \\\\\n",
    "a_{3,n-1}+a_{3,n-2}+a_{3,n-3} & (n > 3)\n",
    "\\end{cases}\n",
    "$$\n",
    "\n",
    "The recursion is similar to that of Fibonacci, but of order $3$ instead of $2$.\n",
    "\n",
    "\n",
    "A bit more experiment actually shows that\n",
    "\n",
    "$$\n",
    "a_{k,n}\n",
    "=\n",
    "\\begin{cases}\n",
    "0 & (n=0)\\\\\n",
    "F_n^{(k)} & (n>0) \\\\\n",
    "\\end{cases}\n",
    "$$\n",
    "\n",
    "where $F_n^{(k)}$ are the [$k$-nacci numbers](https://en.wikipedia.org/wiki/Generalizations_of_Fibonacci_numbers#Higher_orders).\n",
    "\n",
    "To show this is true, we just need to verify the generating function $w(k,z)$ satisfies the following recursion\n",
    "\n",
    "$$\n",
    "w(k,z)-z^k = \\sum_{j=1}^k z^j w(k,z)\n",
    "$$\n",
    "\n",
    "And we can check it is true easily."
   ]
  },
  {
   "cell_type": "code",
   "execution_count": 4,
   "metadata": {},
   "outputs": [
    {
     "data": {
      "text/plain": [
       "True"
      ]
     },
     "execution_count": 4,
     "metadata": {},
     "output_type": "execute_result"
    }
   ],
   "source": [
    "k, j=var('k,j')\n",
    "eqn=w(k,z)-z^k==sum(z^j*w(k,z), j,1,k)\n",
    "bool(eqn)"
   ]
  },
  {
   "cell_type": "markdown",
   "metadata": {},
   "source": [
    "In conclusion, since any fair coin toss sequence of length $n$ has probability $1/2^n$, we have the distribution of $X_k$ by\n",
    "$$\n",
    "P(X_k = n) = a_{k,n}2^{-n} = \n",
    "\\begin{cases}\n",
    "0 & (n=0) \\\\\n",
    "F_n^{(k)}2^{-n} & (n \\ge 1)\n",
    "\\end{cases}\n",
    "$$"
   ]
  }
 ],
 "metadata": {
  "hide_input": false,
  "kernelspec": {
   "display_name": "SageMath 8.9",
   "language": "sage",
   "name": "sagemath"
  },
  "language_info": {
   "codemirror_mode": {
    "name": "ipython",
    "version": 2
   },
   "file_extension": ".py",
   "mimetype": "text/x-python",
   "name": "python",
   "nbconvert_exporter": "python",
   "pygments_lexer": "ipython2",
   "version": "2.7.15"
  }
 },
 "nbformat": 4,
 "nbformat_minor": 2
}
