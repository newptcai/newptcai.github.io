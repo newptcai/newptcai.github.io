{
 "cells": [
  {
   "cell_type": "markdown",
   "metadata": {},
   "source": [
    "## Some setup"
   ]
  },
  {
   "cell_type": "code",
   "execution_count": 1,
   "metadata": {},
   "outputs": [],
   "source": [
    "import sympy"
   ]
  },
  {
   "cell_type": "code",
   "execution_count": 2,
   "metadata": {},
   "outputs": [],
   "source": [
    "x,a,b,x1,B=SR.var('x,a,b, x1,B')"
   ]
  },
  {
   "cell_type": "code",
   "execution_count": 3,
   "metadata": {},
   "outputs": [],
   "source": [
    "f(x)=x^(a-1)*(1-x)^(b-1)/beta(a,b)"
   ]
  },
  {
   "cell_type": "markdown",
   "metadata": {},
   "source": [
    "The peak of $f(x)$ is at"
   ]
  },
  {
   "cell_type": "code",
   "execution_count": 4,
   "metadata": {},
   "outputs": [
    {
     "data": {
      "text/html": [
       "<html><script type=\"math/tex; mode=display\">\\newcommand{\\Bold}[1]{\\mathbf{#1}}\\frac{a - 1}{a + b - 2}</script></html>"
      ],
      "text/plain": [
       "(a - 1)/(a + b - 2)"
      ]
     },
     "metadata": {},
     "output_type": "display_data"
    }
   ],
   "source": [
    "m(a,b)=(a-1)/(a+b-2);\n",
    "m(a,b).show()"
   ]
  },
  {
   "cell_type": "markdown",
   "metadata": {},
   "source": [
    "We see this from a picture"
   ]
  },
  {
   "cell_type": "code",
   "execution_count": 5,
   "metadata": {},
   "outputs": [
    {
     "data": {
      "image/png": "[encoded data removed]",
      "text/plain": [
       "Graphics object consisting of 2 graphics primitives"
      ]
     },
     "execution_count": 5,
     "metadata": {},
     "output_type": "execute_result"
    }
   ],
   "source": [
    "f_ex(x) = f(x).subs(a==3).subs(b==7);\n",
    "m_ex = m(3,7);\n",
    "plot(f_ex(x),(x,0,1))+line([(m_ex,0),(m_ex,f_ex(m_ex))], color='red',linestyle='--')"
   ]
  },
  {
   "cell_type": "markdown",
   "metadata": {},
   "source": [
    "We define $f^{-1}(x)$ to be the inverse of left and right side of $f(x)$ for $1>x>m(a,b)$ and $m(a,b)>x>0$ respectively."
   ]
  },
  {
   "cell_type": "code",
   "execution_count": 6,
   "metadata": {},
   "outputs": [],
   "source": [
    "finv=function('finv', latex_name=\"f^{-1}\")"
   ]
  },
  {
   "cell_type": "markdown",
   "metadata": {},
   "source": [
    "Let $r(x)=f(f^{-1}(x))$, which reflects a point $x$ to throught the curve of $f(x)$. We want to show that $r(x)$ is convex if $b>a>1$. See my [previous post](./the-convexity-property-related-to-beta-densities.html) for pictures."
   ]
  },
  {
   "cell_type": "code",
   "execution_count": 7,
   "metadata": {},
   "outputs": [],
   "source": [
    "r(x)=finv(f(x))"
   ]
  },
  {
   "cell_type": "code",
   "execution_count": 8,
   "metadata": {},
   "outputs": [
    {
     "data": {
      "text/html": [
       "<html><script type=\"math/tex; mode=display\">\\newcommand{\\Bold}[1]{\\mathbf{#1}}f^{-1}\\left(\\frac{x^{a - 1} {\\left(-x + 1\\right)}^{b - 1}}{\\operatorname{B}\\left(a, b\\right)}\\right)</script></html>"
      ],
      "text/plain": [
       "finv(x^(a - 1)*(-x + 1)^(b - 1)/beta(a, b))"
      ]
     },
     "metadata": {},
     "output_type": "display_data"
    }
   ],
   "source": [
    "r(x).show()"
   ]
  },
  {
   "cell_type": "markdown",
   "metadata": {},
   "source": [
    "This is $f(x)$'s direvative."
   ]
  },
  {
   "cell_type": "code",
   "execution_count": 9,
   "metadata": {},
   "outputs": [
    {
     "data": {
      "text/html": [
       "<html><script type=\"math/tex; mode=display\">\\newcommand{\\Bold}[1]{\\mathbf{#1}}\\frac{{\\left(a - 1\\right)} x^{a - 2} {\\left(-x + 1\\right)}^{b - 1} - {\\left(b - 1\\right)} x^{a - 1} {\\left(-x + 1\\right)}^{b - 2}}{\\operatorname{B}\\left(a, b\\right)}</script></html>"
      ],
      "text/plain": [
       "((a - 1)*x^(a - 2)*(-x + 1)^(b - 1) - (b - 1)*x^(a - 1)*(-x + 1)^(b - 2))/beta(a, b)"
      ]
     },
     "metadata": {},
     "output_type": "display_data"
    }
   ],
   "source": [
    "df(x)=diff(f(x),x).combine();\n",
    "df(x).show()"
   ]
  },
  {
   "cell_type": "markdown",
   "metadata": {},
   "source": [
    "This is $f^{-1}(x)$'s direvative."
   ]
  },
  {
   "cell_type": "code",
   "execution_count": 10,
   "metadata": {},
   "outputs": [
    {
     "data": {
      "text/html": [
       "<html><script type=\"math/tex; mode=display\">\\newcommand{\\Bold}[1]{\\mathbf{#1}}-\\frac{\\operatorname{B}\\left(a, b\\right)}{{\\left(b - 1\\right)} {\\left(-f^{-1}\\left(x\\right) + 1\\right)}^{b - 2} f^{-1}\\left(x\\right)^{a - 1} - {\\left(a - 1\\right)} {\\left(-f^{-1}\\left(x\\right) + 1\\right)}^{b - 1} f^{-1}\\left(x\\right)^{a - 2}}</script></html>"
      ],
      "text/plain": [
       "-beta(a, b)/((b - 1)*(-finv(x) + 1)^(b - 2)*finv(x)^(a - 1) - (a - 1)*(-finv(x) + 1)^(b - 1)*finv(x)^(a - 2))"
      ]
     },
     "metadata": {},
     "output_type": "display_data"
    }
   ],
   "source": [
    "dfinv(x)=1/df(finv(x));\n",
    "dfinv(x).show()"
   ]
  },
  {
   "cell_type": "markdown",
   "metadata": {},
   "source": [
    "## First direvative of $r(x)$"
   ]
  },
  {
   "cell_type": "code",
   "execution_count": 11,
   "metadata": {},
   "outputs": [
    {
     "data": {
      "text/html": [
       "<html><script type=\"math/tex; mode=display\">\\newcommand{\\Bold}[1]{\\mathbf{#1}}{\\left(\\frac{{\\left(a - 1\\right)} x^{a - 2} {\\left(-x + 1\\right)}^{b - 1}}{\\operatorname{B}\\left(a, b\\right)} - \\frac{{\\left(b - 1\\right)} x^{a - 1} {\\left(-x + 1\\right)}^{b - 2}}{\\operatorname{B}\\left(a, b\\right)}\\right)} \\mathrm{D}_{0}\\left(f^{-1}\\right)\\left(\\frac{x^{a - 1} {\\left(-x + 1\\right)}^{b - 1}}{\\operatorname{B}\\left(a, b\\right)}\\right)</script></html>"
      ],
      "text/plain": [
       "((a - 1)*x^(a - 2)*(-x + 1)^(b - 1)/beta(a, b) - (b - 1)*x^(a - 1)*(-x + 1)^(b - 2)/beta(a, b))*D[0](finv)(x^(a - 1)*(-x + 1)^(b - 1)/beta(a, b))"
      ]
     },
     "metadata": {},
     "output_type": "display_data"
    }
   ],
   "source": [
    "rd1=diff(r(x),x);\n",
    "rd1.show()"
   ]
  },
  {
   "cell_type": "code",
   "execution_count": 12,
   "metadata": {},
   "outputs": [
    {
     "data": {
      "text/html": [
       "<html><script type=\"math/tex; mode=display\">\\newcommand{\\Bold}[1]{\\mathbf{#1}}\\mathrm{D}_{0}\\left(f^{-1}\\right)\\left(\\frac{x^{a - 1} {\\left(-x + 1\\right)}^{b - 1}}{\\operatorname{B}\\left(a, b\\right)}\\right)</script></html>"
      ],
      "text/plain": [
       "D[0](finv)(x^(a - 1)*(-x + 1)^(b - 1)/beta(a, b))"
      ]
     },
     "metadata": {},
     "output_type": "display_data"
    }
   ],
   "source": [
    "to_be_replace=rd1.operands()[1];\n",
    "to_be_replace.show()"
   ]
  },
  {
   "cell_type": "code",
   "execution_count": 13,
   "metadata": {},
   "outputs": [
    {
     "data": {
      "text/html": [
       "<html><script type=\"math/tex; mode=display\">\\newcommand{\\Bold}[1]{\\mathbf{#1}}-\\frac{{\\left(\\frac{{\\left(a - 1\\right)} x^{a - 2} {\\left(-x + 1\\right)}^{b - 1}}{\\operatorname{B}\\left(a, b\\right)} - \\frac{{\\left(b - 1\\right)} x^{a - 1} {\\left(-x + 1\\right)}^{b - 2}}{\\operatorname{B}\\left(a, b\\right)}\\right)} \\operatorname{B}\\left(a, b\\right)}{{\\left(b - 1\\right)} {\\left(-f^{-1}\\left(\\frac{x^{a - 1} {\\left(-x + 1\\right)}^{b - 1}}{\\operatorname{B}\\left(a, b\\right)}\\right) + 1\\right)}^{b - 2} f^{-1}\\left(\\frac{x^{a - 1} {\\left(-x + 1\\right)}^{b - 1}}{\\operatorname{B}\\left(a, b\\right)}\\right)^{a - 1} - {\\left(a - 1\\right)} {\\left(-f^{-1}\\left(\\frac{x^{a - 1} {\\left(-x + 1\\right)}^{b - 1}}{\\operatorname{B}\\left(a, b\\right)}\\right) + 1\\right)}^{b - 1} f^{-1}\\left(\\frac{x^{a - 1} {\\left(-x + 1\\right)}^{b - 1}}{\\operatorname{B}\\left(a, b\\right)}\\right)^{a - 2}}</script></html>"
      ],
      "text/plain": [
       "-((a - 1)*x^(a - 2)*(-x + 1)^(b - 1)/beta(a, b) - (b - 1)*x^(a - 1)*(-x + 1)^(b - 2)/beta(a, b))*beta(a, b)/((b - 1)*(-finv(x^(a - 1)*(-x + 1)^(b - 1)/beta(a, b)) + 1)^(b - 2)*finv(x^(a - 1)*(-x + 1)^(b - 1)/beta(a, b))^(a - 1) - (a - 1)*(-finv(x^(a - 1)*(-x + 1)^(b - 1)/beta(a, b)) + 1)^(b - 1)*finv(x^(a - 1)*(-x + 1)^(b - 1)/beta(a, b))^(a - 2))"
      ]
     },
     "metadata": {},
     "output_type": "display_data"
    }
   ],
   "source": [
    "rd1_0=rd1.subs(to_be_replace==dfinv(f(x)));\n",
    "rd1_0.show()"
   ]
  },
  {
   "cell_type": "markdown",
   "metadata": {},
   "source": [
    "Make it a easier to manipulate by changing some symbobls. Let $B=\\beta(a,b)$ and $x_1$ be the reflection point of $x$."
   ]
  },
  {
   "cell_type": "code",
   "execution_count": 14,
   "metadata": {},
   "outputs": [
    {
     "data": {
      "text/html": [
       "<html><script type=\"math/tex; mode=display\">\\newcommand{\\Bold}[1]{\\mathbf{#1}}\\frac{{\\left(\\frac{{\\left(a - 1\\right)} x^{a - 2} {\\left(-x + 1\\right)}^{b - 1}}{B} - \\frac{{\\left(b - 1\\right)} x^{a - 1} {\\left(-x + 1\\right)}^{b - 2}}{B}\\right)} B}{{\\left(a - 1\\right)} x_{1}^{a - 2} {\\left(-x_{1} + 1\\right)}^{b - 1} - {\\left(b - 1\\right)} x_{1}^{a - 1} {\\left(-x_{1} + 1\\right)}^{b - 2}}</script></html>"
      ],
      "text/plain": [
       "((a - 1)*x^(a - 2)*(-x + 1)^(b - 1)/B - (b - 1)*x^(a - 1)*(-x + 1)^(b - 2)/B)*B/((a - 1)*x1^(a - 2)*(-x1 + 1)^(b - 1) - (b - 1)*x1^(a - 1)*(-x1 + 1)^(b - 2))"
      ]
     },
     "metadata": {},
     "output_type": "display_data"
    }
   ],
   "source": [
    "rd1_1=rd1_0.subs(finv(f(x))==x1).subs(beta(a,b)==B);\n",
    "rd1_1.show()"
   ]
  },
  {
   "cell_type": "markdown",
   "metadata": {},
   "source": [
    "Simplify using sympy."
   ]
  },
  {
   "cell_type": "code",
   "execution_count": 15,
   "metadata": {},
   "outputs": [],
   "source": [
    "rd1_2=rd1_1._sympy_().simplify()._sage_();"
   ]
  },
  {
   "cell_type": "code",
   "execution_count": 16,
   "metadata": {},
   "outputs": [
    {
     "data": {
      "text/html": [
       "<html><script type=\"math/tex; mode=display\">\\newcommand{\\Bold}[1]{\\mathbf{#1}}\\frac{{\\left(a - 1\\right)} x^{a - 2} {\\left(-x + 1\\right)}^{b - 1} - {\\left(b - 1\\right)} x^{a - 1} {\\left(-x + 1\\right)}^{b - 2}}{{\\left(a - 1\\right)} x_{1}^{a - 2} {\\left(-x_{1} + 1\\right)}^{b - 1} - {\\left(b - 1\\right)} x_{1}^{a - 1} {\\left(-x_{1} + 1\\right)}^{b - 2}}</script></html>"
      ],
      "text/plain": [
       "((a - 1)*x^(a - 2)*(-x + 1)^(b - 1) - (b - 1)*x^(a - 1)*(-x + 1)^(b - 2))/((a - 1)*x1^(a - 2)*(-x1 + 1)^(b - 1) - (b - 1)*x1^(a - 1)*(-x1 + 1)^(b - 2))"
      ]
     },
     "metadata": {},
     "output_type": "display_data"
    }
   ],
   "source": [
    "rd1_2.show()"
   ]
  },
  {
   "cell_type": "markdown",
   "metadata": {},
   "source": [
    "Note that we have three equalities."
   ]
  },
  {
   "cell_type": "code",
   "execution_count": 17,
   "metadata": {},
   "outputs": [
    {
     "data": {
      "text/html": [
       "<html><script type=\"math/tex; mode=display\">\\newcommand{\\Bold}[1]{\\mathbf{#1}}x^{a - 1} {\\left(-x + 1\\right)}^{b - 1} = x_{1}^{a - 1} {\\left(-x_{1} + 1\\right)}^{b - 1}</script></html>"
      ],
      "text/plain": [
       "x^(a - 1)*(-x + 1)^(b - 1) == x1^(a - 1)*(-x1 + 1)^(b - 1)"
      ]
     },
     "metadata": {},
     "output_type": "display_data"
    }
   ],
   "source": [
    "eq1=beta(a,b)*f(x)==beta(a,b)*f(x1);\n",
    "eq1.show()"
   ]
  },
  {
   "cell_type": "code",
   "execution_count": 18,
   "metadata": {},
   "outputs": [
    {
     "data": {
      "text/html": [
       "<html><script type=\"math/tex; mode=display\">\\newcommand{\\Bold}[1]{\\mathbf{#1}}x_{1}^{a - 1} = \\frac{x^{a - 1} {\\left(-x + 1\\right)}^{b - 1}}{{\\left(-x_{1} + 1\\right)}^{b - 1}}</script></html>"
      ],
      "text/plain": [
       "x1^(a - 1) == x^(a - 1)*(-x + 1)^(b - 1)/(-x1 + 1)^(b - 1)"
      ]
     },
     "metadata": {},
     "output_type": "display_data"
    }
   ],
   "source": [
    "eq2=eq1.op[1]/eq1.op[1,1]==eq1.op[0]/eq1.op[1,1];\n",
    "eq2.show()"
   ]
  },
  {
   "cell_type": "code",
   "execution_count": 19,
   "metadata": {},
   "outputs": [
    {
     "data": {
      "text/html": [
       "<html><script type=\"math/tex; mode=display\">\\newcommand{\\Bold}[1]{\\mathbf{#1}}{\\left(-x_{1} + 1\\right)}^{b - 1} = \\frac{x^{a - 1} {\\left(-x + 1\\right)}^{b - 1}}{x_{1}^{a - 1}}</script></html>"
      ],
      "text/plain": [
       "(-x1 + 1)^(b - 1) == x^(a - 1)*(-x + 1)^(b - 1)/x1^(a - 1)"
      ]
     },
     "metadata": {},
     "output_type": "display_data"
    }
   ],
   "source": [
    "eq3=eq1.op[1]/eq1.op[1,0]==eq1.op[0]/eq1.op[1,0];\n",
    "eq3.show()"
   ]
  },
  {
   "cell_type": "markdown",
   "metadata": {},
   "source": [
    "Now we simplify again use these equations."
   ]
  },
  {
   "cell_type": "code",
   "execution_count": 20,
   "metadata": {},
   "outputs": [
    {
     "data": {
      "text/html": [
       "<html><script type=\"math/tex; mode=display\">\\newcommand{\\Bold}[1]{\\mathbf{#1}}\\frac{{\\left(a {\\left(x - 1\\right)} + b x - 2 \\, x + 1\\right)} {\\left(x_{1} - 1\\right)} x_{1}}{{\\left(a {\\left(x_{1} - 1\\right)} + b x_{1} - 2 \\, x_{1} + 1\\right)} {\\left(x - 1\\right)} x}</script></html>"
      ],
      "text/plain": [
       "(a*(x - 1) + b*x - 2*x + 1)*(x1 - 1)*x1/((a*(x1 - 1) + b*x1 - 2*x1 + 1)*(x - 1)*x)"
      ]
     },
     "metadata": {},
     "output_type": "display_data"
    }
   ],
   "source": [
    "rd1_3=rd1_2._sympy_().subs(eq2.op[0],eq2.op[1]).subs(eq3.op[0],eq3.op[1]).simplify().together()._sage_()\n",
    "rd1_3.show()"
   ]
  },
  {
   "cell_type": "markdown",
   "metadata": {},
   "source": [
    "The final form for $r'(x)$ is"
   ]
  },
  {
   "cell_type": "code",
   "execution_count": 21,
   "metadata": {},
   "outputs": [
    {
     "data": {
      "text/html": [
       "<html><script type=\"math/tex; mode=display\">\\newcommand{\\Bold}[1]{\\mathbf{#1}}\\frac{{\\left(a {\\left(x - 1\\right)} + b x - 2 \\, x + 1\\right)} {\\left(f^{-1}\\left(\\frac{x^{a - 1} {\\left(-x + 1\\right)}^{b - 1}}{\\operatorname{B}\\left(a, b\\right)}\\right) - 1\\right)} f^{-1}\\left(\\frac{x^{a - 1} {\\left(-x + 1\\right)}^{b - 1}}{\\operatorname{B}\\left(a, b\\right)}\\right)}{{\\left(a {\\left(f^{-1}\\left(\\frac{x^{a - 1} {\\left(-x + 1\\right)}^{b - 1}}{\\operatorname{B}\\left(a, b\\right)}\\right) - 1\\right)} + b f^{-1}\\left(\\frac{x^{a - 1} {\\left(-x + 1\\right)}^{b - 1}}{\\operatorname{B}\\left(a, b\\right)}\\right) - 2 \\, f^{-1}\\left(\\frac{x^{a - 1} {\\left(-x + 1\\right)}^{b - 1}}{\\operatorname{B}\\left(a, b\\right)}\\right) + 1\\right)} {\\left(x - 1\\right)} x}</script></html>"
      ],
      "text/plain": [
       "(a*(x - 1) + b*x - 2*x + 1)*(finv(x^(a - 1)*(-x + 1)^(b - 1)/beta(a, b)) - 1)*finv(x^(a - 1)*(-x + 1)^(b - 1)/beta(a, b))/((a*(finv(x^(a - 1)*(-x + 1)^(b - 1)/beta(a, b)) - 1) + b*finv(x^(a - 1)*(-x + 1)^(b - 1)/beta(a, b)) - 2*finv(x^(a - 1)*(-x + 1)^(b - 1)/beta(a, b)) + 1)*(x - 1)*x)"
      ]
     },
     "metadata": {},
     "output_type": "display_data"
    }
   ],
   "source": [
    "rd1_4=rd1_3.subs(x1==finv(f(x)));\n",
    "rd1_4.show()"
   ]
  },
  {
   "cell_type": "markdown",
   "metadata": {},
   "source": [
    "## Second direvative"
   ]
  },
  {
   "cell_type": "code",
   "execution_count": 22,
   "metadata": {},
   "outputs": [
    {
     "data": {
      "text/html": [
       "<html><script type=\"math/tex; mode=display\">\\newcommand{\\Bold}[1]{\\mathbf{#1}}a {\\left(x - 1\\right)} + b x - 2 \\, x + 1</script></html>"
      ],
      "text/plain": [
       "a*(x - 1) + b*x - 2*x + 1"
      ]
     },
     "metadata": {},
     "output_type": "display_data"
    },
    {
     "data": {
      "text/html": [
       "<html><script type=\"math/tex; mode=display\">\\newcommand{\\Bold}[1]{\\mathbf{#1}}\\frac{1}{a {\\left(f^{-1}\\left(\\frac{x^{a - 1} {\\left(-x + 1\\right)}^{b - 1}}{\\operatorname{B}\\left(a, b\\right)}\\right) - 1\\right)} + b f^{-1}\\left(\\frac{x^{a - 1} {\\left(-x + 1\\right)}^{b - 1}}{\\operatorname{B}\\left(a, b\\right)}\\right) - 2 \\, f^{-1}\\left(\\frac{x^{a - 1} {\\left(-x + 1\\right)}^{b - 1}}{\\operatorname{B}\\left(a, b\\right)}\\right) + 1}</script></html>"
      ],
      "text/plain": [
       "1/(a*(finv(x^(a - 1)*(-x + 1)^(b - 1)/beta(a, b)) - 1) + b*finv(x^(a - 1)*(-x + 1)^(b - 1)/beta(a, b)) - 2*finv(x^(a - 1)*(-x + 1)^(b - 1)/beta(a, b)) + 1)"
      ]
     },
     "metadata": {},
     "output_type": "display_data"
    },
    {
     "data": {
      "text/html": [
       "<html><script type=\"math/tex; mode=display\">\\newcommand{\\Bold}[1]{\\mathbf{#1}}\\frac{{\\left(a - 1\\right)} x^{a - 2} {\\left(-x + 1\\right)}^{b - 1}}{\\operatorname{B}\\left(a, b\\right)} - \\frac{{\\left(b - 1\\right)} x^{a - 1} {\\left(-x + 1\\right)}^{b - 2}}{\\operatorname{B}\\left(a, b\\right)}</script></html>"
      ],
      "text/plain": [
       "(a - 1)*x^(a - 2)*(-x + 1)^(b - 1)/beta(a, b) - (b - 1)*x^(a - 1)*(-x + 1)^(b - 2)/beta(a, b)"
      ]
     },
     "metadata": {},
     "output_type": "display_data"
    },
    {
     "data": {
      "text/html": [
       "<html><script type=\"math/tex; mode=display\">\\newcommand{\\Bold}[1]{\\mathbf{#1}}\\frac{1}{x - 1}</script></html>"
      ],
      "text/plain": [
       "1/(x - 1)"
      ]
     },
     "metadata": {},
     "output_type": "display_data"
    },
    {
     "data": {
      "text/html": [
       "<html><script type=\"math/tex; mode=display\">\\newcommand{\\Bold}[1]{\\mathbf{#1}}\\frac{1}{x}</script></html>"
      ],
      "text/plain": [
       "1/x"
      ]
     },
     "metadata": {},
     "output_type": "display_data"
    },
    {
     "data": {
      "text/html": [
       "<html><script type=\"math/tex; mode=display\">\\newcommand{\\Bold}[1]{\\mathbf{#1}}f^{-1}\\left(\\frac{x^{a - 1} {\\left(-x + 1\\right)}^{b - 1}}{\\operatorname{B}\\left(a, b\\right)}\\right) - 1</script></html>"
      ],
      "text/plain": [
       "finv(x^(a - 1)*(-x + 1)^(b - 1)/beta(a, b)) - 1"
      ]
     },
     "metadata": {},
     "output_type": "display_data"
    },
    {
     "data": {
      "text/html": [
       "<html><script type=\"math/tex; mode=display\">\\newcommand{\\Bold}[1]{\\mathbf{#1}}\\mathrm{D}_{0}\\left(f^{-1}\\right)\\left(\\frac{x^{a - 1} {\\left(-x + 1\\right)}^{b - 1}}{\\operatorname{B}\\left(a, b\\right)}\\right)</script></html>"
      ],
      "text/plain": [
       "D[0](finv)(x^(a - 1)*(-x + 1)^(b - 1)/beta(a, b))"
      ]
     },
     "metadata": {},
     "output_type": "display_data"
    }
   ],
   "source": [
    "rd2_0=rd1_4.diff(x);\n",
    "[o.show() for o in rd2_0.op[0].op];"
   ]
  },
  {
   "cell_type": "code",
   "execution_count": 23,
   "metadata": {},
   "outputs": [
    {
     "data": {
      "text/html": [
       "<html><script type=\"math/tex; mode=display\">\\newcommand{\\Bold}[1]{\\mathbf{#1}}\\mathrm{D}_{0}\\left(f^{-1}\\right)\\left(\\frac{x^{a - 1} {\\left(-x + 1\\right)}^{b - 1}}{\\operatorname{B}\\left(a, b\\right)}\\right)</script></html>"
      ],
      "text/plain": [
       "D[0](finv)(x^(a - 1)*(-x + 1)^(b - 1)/beta(a, b))"
      ]
     },
     "metadata": {},
     "output_type": "display_data"
    }
   ],
   "source": [
    "to_be_replace_2=rd2_0.op[0].op[-1];\n",
    "to_be_replace_2.show();"
   ]
  },
  {
   "cell_type": "code",
   "execution_count": 24,
   "metadata": {},
   "outputs": [
    {
     "data": {
      "text/html": [
       "<html><script type=\"math/tex; mode=display\">\\newcommand{\\Bold}[1]{\\mathbf{#1}}\\frac{{\\left(a {\\left(x - 1\\right)} + b x - 2 \\, x + 1\\right)} {\\left(\\frac{{\\left(a - 1\\right)} x^{a - 2} {\\left(-x + 1\\right)}^{b - 1}}{B} - \\frac{{\\left(b - 1\\right)} x^{a - 1} {\\left(-x + 1\\right)}^{b - 2}}{B}\\right)} B {\\left(x_{1} - 1\\right)}}{{\\left({\\left(a - 1\\right)} x_{1}^{a - 2} {\\left(-x_{1} + 1\\right)}^{b - 1} - {\\left(b - 1\\right)} x_{1}^{a - 1} {\\left(-x_{1} + 1\\right)}^{b - 2}\\right)} {\\left(a {\\left(x_{1} - 1\\right)} + b x_{1} - 2 \\, x_{1} + 1\\right)} {\\left(x - 1\\right)} x} + \\frac{{\\left(a {\\left(x - 1\\right)} + b x - 2 \\, x + 1\\right)} {\\left(\\frac{{\\left(a - 1\\right)} x^{a - 2} {\\left(-x + 1\\right)}^{b - 1}}{B} - \\frac{{\\left(b - 1\\right)} x^{a - 1} {\\left(-x + 1\\right)}^{b - 2}}{B}\\right)} B x_{1}}{{\\left({\\left(a - 1\\right)} x_{1}^{a - 2} {\\left(-x_{1} + 1\\right)}^{b - 1} - {\\left(b - 1\\right)} x_{1}^{a - 1} {\\left(-x_{1} + 1\\right)}^{b - 2}\\right)} {\\left(a {\\left(x_{1} - 1\\right)} + b x_{1} - 2 \\, x_{1} + 1\\right)} {\\left(x - 1\\right)} x} - \\frac{{\\left(\\frac{{\\left(\\frac{{\\left(a - 1\\right)} x^{a - 2} {\\left(-x + 1\\right)}^{b - 1}}{B} - \\frac{{\\left(b - 1\\right)} x^{a - 1} {\\left(-x + 1\\right)}^{b - 2}}{B}\\right)} B a}{{\\left(a - 1\\right)} x_{1}^{a - 2} {\\left(-x_{1} + 1\\right)}^{b - 1} - {\\left(b - 1\\right)} x_{1}^{a - 1} {\\left(-x_{1} + 1\\right)}^{b - 2}} + \\frac{{\\left(\\frac{{\\left(a - 1\\right)} x^{a - 2} {\\left(-x + 1\\right)}^{b - 1}}{B} - \\frac{{\\left(b - 1\\right)} x^{a - 1} {\\left(-x + 1\\right)}^{b - 2}}{B}\\right)} B b}{{\\left(a - 1\\right)} x_{1}^{a - 2} {\\left(-x_{1} + 1\\right)}^{b - 1} - {\\left(b - 1\\right)} x_{1}^{a - 1} {\\left(-x_{1} + 1\\right)}^{b - 2}} - \\frac{2 \\, {\\left(\\frac{{\\left(a - 1\\right)} x^{a - 2} {\\left(-x + 1\\right)}^{b - 1}}{B} - \\frac{{\\left(b - 1\\right)} x^{a - 1} {\\left(-x + 1\\right)}^{b - 2}}{B}\\right)} B}{{\\left(a - 1\\right)} x_{1}^{a - 2} {\\left(-x_{1} + 1\\right)}^{b - 1} - {\\left(b - 1\\right)} x_{1}^{a - 1} {\\left(-x_{1} + 1\\right)}^{b - 2}}\\right)} {\\left(a {\\left(x - 1\\right)} + b x - 2 \\, x + 1\\right)} {\\left(x_{1} - 1\\right)} x_{1}}{{\\left(a {\\left(x_{1} - 1\\right)} + b x_{1} - 2 \\, x_{1} + 1\\right)}^{2} {\\left(x - 1\\right)} x} + \\frac{{\\left(a + b - 2\\right)} {\\left(x_{1} - 1\\right)} x_{1}}{{\\left(a {\\left(x_{1} - 1\\right)} + b x_{1} - 2 \\, x_{1} + 1\\right)} {\\left(x - 1\\right)} x} - \\frac{{\\left(a {\\left(x - 1\\right)} + b x - 2 \\, x + 1\\right)} {\\left(x_{1} - 1\\right)} x_{1}}{{\\left(a {\\left(x_{1} - 1\\right)} + b x_{1} - 2 \\, x_{1} + 1\\right)} {\\left(x - 1\\right)} x^{2}} - \\frac{{\\left(a {\\left(x - 1\\right)} + b x - 2 \\, x + 1\\right)} {\\left(x_{1} - 1\\right)} x_{1}}{{\\left(a {\\left(x_{1} - 1\\right)} + b x_{1} - 2 \\, x_{1} + 1\\right)} {\\left(x - 1\\right)}^{2} x}</script></html>"
      ],
      "text/plain": [
       "(a*(x - 1) + b*x - 2*x + 1)*((a - 1)*x^(a - 2)*(-x + 1)^(b - 1)/B - (b - 1)*x^(a - 1)*(-x + 1)^(b - 2)/B)*B*(x1 - 1)/(((a - 1)*x1^(a - 2)*(-x1 + 1)^(b - 1) - (b - 1)*x1^(a - 1)*(-x1 + 1)^(b - 2))*(a*(x1 - 1) + b*x1 - 2*x1 + 1)*(x - 1)*x) + (a*(x - 1) + b*x - 2*x + 1)*((a - 1)*x^(a - 2)*(-x + 1)^(b - 1)/B - (b - 1)*x^(a - 1)*(-x + 1)^(b - 2)/B)*B*x1/(((a - 1)*x1^(a - 2)*(-x1 + 1)^(b - 1) - (b - 1)*x1^(a - 1)*(-x1 + 1)^(b - 2))*(a*(x1 - 1) + b*x1 - 2*x1 + 1)*(x - 1)*x) - (((a - 1)*x^(a - 2)*(-x + 1)^(b - 1)/B - (b - 1)*x^(a - 1)*(-x + 1)^(b - 2)/B)*B*a/((a - 1)*x1^(a - 2)*(-x1 + 1)^(b - 1) - (b - 1)*x1^(a - 1)*(-x1 + 1)^(b - 2)) + ((a - 1)*x^(a - 2)*(-x + 1)^(b - 1)/B - (b - 1)*x^(a - 1)*(-x + 1)^(b - 2)/B)*B*b/((a - 1)*x1^(a - 2)*(-x1 + 1)^(b - 1) - (b - 1)*x1^(a - 1)*(-x1 + 1)^(b - 2)) - 2*((a - 1)*x^(a - 2)*(-x + 1)^(b - 1)/B - (b - 1)*x^(a - 1)*(-x + 1)^(b - 2)/B)*B/((a - 1)*x1^(a - 2)*(-x1 + 1)^(b - 1) - (b - 1)*x1^(a - 1)*(-x1 + 1)^(b - 2)))*(a*(x - 1) + b*x - 2*x + 1)*(x1 - 1)*x1/((a*(x1 - 1) + b*x1 - 2*x1 + 1)^2*(x - 1)*x) + (a + b - 2)*(x1 - 1)*x1/((a*(x1 - 1) + b*x1 - 2*x1 + 1)*(x - 1)*x) - (a*(x - 1) + b*x - 2*x + 1)*(x1 - 1)*x1/((a*(x1 - 1) + b*x1 - 2*x1 + 1)*(x - 1)*x^2) - (a*(x - 1) + b*x - 2*x + 1)*(x1 - 1)*x1/((a*(x1 - 1) + b*x1 - 2*x1 + 1)*(x - 1)^2*x)"
      ]
     },
     "metadata": {},
     "output_type": "display_data"
    }
   ],
   "source": [
    "rd2_1=rd2_0.subs(to_be_replace_2==dfinv(f(x))).subs(finv(f(x))==x1).subs(beta(a,b)==B);\n",
    "rd2_1.show()"
   ]
  },
  {
   "cell_type": "markdown",
   "metadata": {},
   "source": [
    "This is a lot, but again we can use `eq2,eq3` to simplify."
   ]
  },
  {
   "cell_type": "code",
   "execution_count": 25,
   "metadata": {},
   "outputs": [],
   "source": [
    "rd2_2=rd2_1._sympy_().subs(eq2.op[0],eq2.op[1]).subs(eq3.op[0],eq3.op[1]);"
   ]
  },
  {
   "cell_type": "markdown",
   "metadata": {},
   "source": [
    "Some more simplification with `sympy`, and study the denominator and numerator separately."
   ]
  },
  {
   "cell_type": "code",
   "execution_count": 26,
   "metadata": {},
   "outputs": [],
   "source": [
    "rd2_numer, rd2_denom=sympy.fraction(rd2_2.together())"
   ]
  },
  {
   "cell_type": "markdown",
   "metadata": {},
   "source": [
    "The denominator."
   ]
  },
  {
   "cell_type": "code",
   "execution_count": 27,
   "metadata": {},
   "outputs": [
    {
     "data": {
      "text/html": [
       "<html><script type=\"math/tex; mode=display\">\\newcommand{\\Bold}[1]{\\mathbf{#1}}{\\left(a {\\left(x_{1} - 1\\right)} + b x_{1} - 2 \\, x_{1} + 1\\right)}^{2} {\\left(x - 1\\right)}^{2} x^{2} {\\left(\\frac{b - 1}{x_{1} - 1} + \\frac{a - 1}{x_{1}}\\right)}</script></html>"
      ],
      "text/plain": [
       "(a*(x1 - 1) + b*x1 - 2*x1 + 1)^2*(x - 1)^2*x^2*((b - 1)/(x1 - 1) + (a - 1)/x1)"
      ]
     },
     "metadata": {},
     "output_type": "display_data"
    }
   ],
   "source": [
    "rd2_denom1=rd2_denom.simplify()._sage_();\n",
    "rd2_denom1.show()"
   ]
  },
  {
   "cell_type": "markdown",
   "metadata": {},
   "source": [
    "We want the 2nd direvative to be positive when $b>a>1$, so we can ingore the first 3 terms, which are positive."
   ]
  },
  {
   "cell_type": "code",
   "execution_count": 28,
   "metadata": {},
   "outputs": [
    {
     "data": {
      "text/html": [
       "<html><script type=\"math/tex; mode=display\">\\newcommand{\\Bold}[1]{\\mathbf{#1}}\\frac{b - 1}{x_{1} - 1} + \\frac{a - 1}{x_{1}}</script></html>"
      ],
      "text/plain": [
       "(b - 1)/(x1 - 1) + (a - 1)/x1"
      ]
     },
     "metadata": {},
     "output_type": "display_data"
    }
   ],
   "source": [
    "rd2_denom2=rd2_denom1.op[-1];\n",
    "rd2_denom2.show()"
   ]
  },
  {
   "cell_type": "markdown",
   "metadata": {},
   "source": [
    "The numerator."
   ]
  },
  {
   "cell_type": "code",
   "execution_count": 29,
   "metadata": {},
   "outputs": [
    {
     "data": {
      "text/html": [
       "<html><script type=\"math/tex; mode=display\">\\newcommand{\\Bold}[1]{\\mathbf{#1}}a^{2} b x^{2} + a b^{2} x^{2} - a^{2} b x_{1}^{2} - a b^{2} x_{1}^{2} - 2 \\, a^{2} b x - a^{2} x^{2} - 4 \\, a b x^{2} - b^{2} x^{2} + 2 \\, a^{2} b x_{1} + a^{2} x_{1}^{2} + 4 \\, a b x_{1}^{2} + b^{2} x_{1}^{2} + 2 \\, a^{2} x + 4 \\, a b x + 3 \\, a x^{2} + 3 \\, b x^{2} - 2 \\, a^{2} x_{1} - 4 \\, a b x_{1} - 3 \\, a x_{1}^{2} - 3 \\, b x_{1}^{2} - 4 \\, a x - 2 \\, b x - 2 \\, x^{2} + 4 \\, a x_{1} + 2 \\, b x_{1} + 2 \\, x_{1}^{2} + 2 \\, x - 2 \\, x_{1}</script></html>"
      ],
      "text/plain": [
       "a^2*b*x^2 + a*b^2*x^2 - a^2*b*x1^2 - a*b^2*x1^2 - 2*a^2*b*x - a^2*x^2 - 4*a*b*x^2 - b^2*x^2 + 2*a^2*b*x1 + a^2*x1^2 + 4*a*b*x1^2 + b^2*x1^2 + 2*a^2*x + 4*a*b*x + 3*a*x^2 + 3*b*x^2 - 2*a^2*x1 - 4*a*b*x1 - 3*a*x1^2 - 3*b*x1^2 - 4*a*x - 2*b*x - 2*x^2 + 4*a*x1 + 2*b*x1 + 2*x1^2 + 2*x - 2*x1"
      ]
     },
     "metadata": {},
     "output_type": "display_data"
    }
   ],
   "source": [
    "rd2_numer1=rd2_numer.simplify()._sage_();\n",
    "rd2_numer1.show()"
   ]
  },
  {
   "cell_type": "markdown",
   "metadata": {},
   "source": [
    "Put the numerator and denominator back and separte them again, which actually simplifies again.\n"
   ]
  },
  {
   "cell_type": "code",
   "execution_count": 30,
   "metadata": {},
   "outputs": [],
   "source": [
    "numer3,denom3=sympy.fraction((rd2_numer1/rd2_denom2)._sympy_().together())"
   ]
  },
  {
   "cell_type": "markdown",
   "metadata": {},
   "source": [
    "The denominator."
   ]
  },
  {
   "cell_type": "code",
   "execution_count": 31,
   "metadata": {},
   "outputs": [
    {
     "data": {
      "text/html": [
       "<html><script type=\"math/tex; mode=display\">\\newcommand{\\Bold}[1]{\\mathbf{#1}}{\\left(a + b - 2\\right)} x_{1} - a + 1</script></html>"
      ],
      "text/plain": [
       "(a + b - 2)*x1 - a + 1"
      ]
     },
     "metadata": {},
     "output_type": "display_data"
    }
   ],
   "source": [
    "denom3.expand().collect(x1)._sage_().show()"
   ]
  },
  {
   "cell_type": "markdown",
   "metadata": {},
   "source": [
    "This is $>0$ if $x_1 > m(a,b)= (a-1)/(a+b-2)$, which is our assumption. So the denominator does not matter."
   ]
  },
  {
   "cell_type": "markdown",
   "metadata": {},
   "source": [
    "Factor the numerator"
   ]
  },
  {
   "cell_type": "code",
   "execution_count": 32,
   "metadata": {},
   "outputs": [
    {
     "data": {
      "text/html": [
       "<html><script type=\"math/tex; mode=display\">\\newcommand{\\Bold}[1]{\\mathbf{#1}}{\\left(a x + b x + a x_{1} + b x_{1} - 2 \\, a - 2 \\, x - 2 \\, x_{1} + 2\\right)} {\\left(a - 1\\right)} {\\left(b - 1\\right)} {\\left(x - x_{1}\\right)} {\\left(x_{1} - 1\\right)} x_{1}</script></html>"
      ],
      "text/plain": [
       "(a*x + b*x + a*x1 + b*x1 - 2*a - 2*x - 2*x1 + 2)*(a - 1)*(b - 1)*(x - x1)*(x1 - 1)*x1"
      ]
     },
     "metadata": {},
     "output_type": "display_data"
    }
   ],
   "source": [
    "numer4=numer3.factor()._sage_();\n",
    "numer4.show()"
   ]
  },
  {
   "cell_type": "markdown",
   "metadata": {},
   "source": [
    "If we restrict that $x<x_1$, then the last 4 terms are positive. So we can drop them. We only need to show the 1st term is positve."
   ]
  },
  {
   "cell_type": "code",
   "execution_count": 33,
   "metadata": {},
   "outputs": [
    {
     "data": {
      "text/html": [
       "<html><script type=\"math/tex; mode=display\">\\newcommand{\\Bold}[1]{\\mathbf{#1}}a x + b x + a x_{1} + b x_{1} - 2 \\, a - 2 \\, x - 2 \\, x_{1} + 2</script></html>"
      ],
      "text/plain": [
       "a*x + b*x + a*x1 + b*x1 - 2*a - 2*x - 2*x1 + 2"
      ]
     },
     "metadata": {},
     "output_type": "display_data"
    }
   ],
   "source": [
    "numer5 = numer4.op[0];\n",
    "numer5.show()"
   ]
  },
  {
   "cell_type": "code",
   "execution_count": 34,
   "metadata": {},
   "outputs": [
    {
     "data": {
      "text/html": [
       "<html><script type=\"math/tex; mode=display\">\\newcommand{\\Bold}[1]{\\mathbf{#1}}{\\left(a + b - 2\\right)} {\\left(x + x_{1}\\right)} - 2 \\, a + 2</script></html>"
      ],
      "text/plain": [
       "(a + b - 2)*(x + x1) - 2*a + 2"
      ]
     },
     "metadata": {},
     "output_type": "display_data"
    }
   ],
   "source": [
    "numer6=numer5._sympy_().collect(x).collect(x1).collect(a+b-2);\n",
    "numer6._sage_().show()"
   ]
  },
  {
   "cell_type": "markdown",
   "metadata": {},
   "source": [
    "This is $>0$ if\n",
    "$$\n",
    "x+x_1>\\frac{2 a +2 }{a+b-2}\n",
    "$$\n",
    "and I mentioned in my [earlier post](./the-convexity-property-related-to-beta-densities.html), this is very simple and is left as an exercise."
   ]
  }
 ],
 "metadata": {
  "hide_input": false,
  "kernelspec": {
   "display_name": "SageMath 9.0",
   "language": "sage",
   "name": "sagemath"
  },
  "language_info": {
   "codemirror_mode": {
    "name": "ipython",
    "version": 3
   },
   "file_extension": ".py",
   "mimetype": "text/x-python",
   "name": "python",
   "nbconvert_exporter": "python",
   "pygments_lexer": "ipython3",
   "version": "3.7.3"
  }
 },
 "nbformat": 4,
 "nbformat_minor": 2
}
