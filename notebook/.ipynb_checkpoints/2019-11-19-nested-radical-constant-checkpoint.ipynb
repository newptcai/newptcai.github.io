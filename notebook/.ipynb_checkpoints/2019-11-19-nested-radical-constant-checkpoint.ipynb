{
 "cells": [
  {
   "cell_type": "markdown",
   "metadata": {},
   "source": [
    "## The problem\n",
    "\n",
    "Let $a_n = 1+\\sqrt{2+\\sqrt{3+\\dots+\\sqrt{n+\\sqrt{n+1}}}}$. Show that $a_n$ is bounded"
   ]
  },
  {
   "cell_type": "markdown",
   "metadata": {},
   "source": [
    "## The experimental solution"
   ]
  },
  {
   "cell_type": "markdown",
   "metadata": {},
   "source": [
    "Let's try some numeric experiment first."
   ]
  },
  {
   "cell_type": "code",
   "execution_count": 1,
   "metadata": {},
   "outputs": [],
   "source": [
    "def a(n, prec=53, numeric=False):\n",
    "    n0 = n\n",
    "    value = n+1\n",
    "    while n0 >0:\n",
    "        value = (n0+sqrt(value))\n",
    "        if numeric:\n",
    "            value = value.n(prec=prec)\n",
    "        n0 -= 1\n",
    "    return value"
   ]
  },
  {
   "cell_type": "markdown",
   "metadata": {},
   "source": [
    "The sequence"
   ]
  },
  {
   "cell_type": "code",
   "execution_count": 2,
   "metadata": {},
   "outputs": [
    {
     "data": {
      "text/plain": [
       "[sqrt(2) + 1,\n",
       " sqrt(sqrt(3) + 2) + 1,\n",
       " sqrt(sqrt(5) + 2) + 1,\n",
       " sqrt(sqrt(sqrt(sqrt(5) + 4) + 3) + 2) + 1,\n",
       " sqrt(sqrt(sqrt(sqrt(sqrt(6) + 5) + 4) + 3) + 2) + 1]"
      ]
     },
     "execution_count": 2,
     "metadata": {},
     "output_type": "execute_result"
    }
   ],
   "source": [
    "[a(n) for n in range(1,6)]"
   ]
  },
  {
   "cell_type": "markdown",
   "metadata": {},
   "source": [
    "The numeric value"
   ]
  },
  {
   "cell_type": "code",
   "execution_count": 3,
   "metadata": {},
   "outputs": [
    {
     "data": {
      "text/plain": [
       "[2.41421356237309,\n",
       " 2.93185165257814,\n",
       " 3.05817102727149,\n",
       " 3.08437362526552,\n",
       " 3.08930271111850,\n",
       " 3.09016194475189,\n",
       " 3.09030226595168,\n",
       " 3.09032389883267,\n",
       " 3.09032706620193]"
      ]
     },
     "execution_count": 3,
     "metadata": {},
     "output_type": "execute_result"
    }
   ],
   "source": [
    "[a(n, numeric=True) for n in range(1,10)]"
   ]
  },
  {
   "cell_type": "markdown",
   "metadata": {},
   "source": [
    "This does look convergent. What is the limit?"
   ]
  },
  {
   "cell_type": "code",
   "execution_count": 4,
   "metadata": {},
   "outputs": [
    {
     "data": {
      "text/plain": [
       "3.0903275767905763591925445067"
      ]
     },
     "execution_count": 4,
     "metadata": {},
     "output_type": "execute_result"
    }
   ],
   "source": [
    "a(100000, numeric=True, prec=100)"
   ]
  },
  {
   "cell_type": "markdown",
   "metadata": {},
   "source": [
    "If you check this number on [WolframAlpha](https://www.wolframalpha.com/input/?i=3.0903275767905763591925445067), you will see that it's the square of the [nest-radical-constant](http://mathworld.wolfram.com/NestedRadicalConstant.html), which is defined by the limit of\n",
    "$$\n",
    "b_n = \\sqrt{1+\\sqrt{2+\\dots \\sqrt{n}}}\n",
    "$$\n",
    "And you will find this [OEIS page](http://oeis.org/A072449) for it. This page tells you that, \n",
    "$$\n",
    "\\sqrt{c_1+\\sqrt{c_2+\\dots \\sqrt{c_n}}}\n",
    "$$\n",
    "converges if and only if \n",
    "$$\n",
    "\\limsup_{n \\to \\infty} \\frac{\\log(c_n)}{2^n} < \\infty\n",
    "$$\n",
    "In other words, we take $c_n = e^{2^n}$ and we will still get convergent. This gives us a lot of liberty to upper bound the original problem.\n",
    "\n",
    "The easiest choice is actually just take $c_n = 2^{2^n} \\ge n$. Let see what we get."
   ]
  },
  {
   "cell_type": "code",
   "execution_count": 5,
   "metadata": {},
   "outputs": [],
   "source": [
    "def a1(n, prec=53, numeric=False):\n",
    "    n0 = n\n",
    "    value = 2^(2^(n+1))\n",
    "    while n0 >0:\n",
    "        value = (2^(2^n0))+sqrt(value)\n",
    "        if numeric:\n",
    "            value = value.n(prec=prec)\n",
    "        n0 -= 1\n",
    "    return sqrt(value)"
   ]
  },
  {
   "cell_type": "code",
   "execution_count": 6,
   "metadata": {},
   "outputs": [
    {
     "data": {
      "text/plain": [
       "[2*sqrt(2),\n",
       " 2*sqrt(sqrt(2) + 1),\n",
       " 2*sqrt(sqrt(sqrt(2) + 1) + 1),\n",
       " 2*sqrt(sqrt(sqrt(sqrt(2) + 1) + 1) + 1),\n",
       " 2*sqrt(sqrt(sqrt(sqrt(sqrt(2) + 1) + 1) + 1) + 1)]"
      ]
     },
     "execution_count": 6,
     "metadata": {},
     "output_type": "execute_result"
    }
   ],
   "source": [
    "a1l=[a1(n) for n in range(1,6)]\n",
    "a1l"
   ]
  },
  {
   "cell_type": "markdown",
   "metadata": {},
   "source": [
    "So we just need to show this sequence converges"
   ]
  },
  {
   "cell_type": "code",
   "execution_count": 7,
   "metadata": {},
   "outputs": [
    {
     "data": {
      "text/plain": [
       "[sqrt(2),\n",
       " sqrt(sqrt(2) + 1),\n",
       " sqrt(sqrt(sqrt(2) + 1) + 1),\n",
       " sqrt(sqrt(sqrt(sqrt(2) + 1) + 1) + 1),\n",
       " sqrt(sqrt(sqrt(sqrt(sqrt(2) + 1) + 1) + 1) + 1)]"
      ]
     },
     "execution_count": 7,
     "metadata": {},
     "output_type": "execute_result"
    }
   ],
   "source": [
    "a1l = [1/2 * v for v in a1l]\n",
    "a1l"
   ]
  },
  {
   "cell_type": "markdown",
   "metadata": {},
   "source": [
    "And this is quite obvious if you look at this picture"
   ]
  },
  {
   "cell_type": "code",
   "execution_count": 8,
   "metadata": {},
   "outputs": [
    {
     "data": {
      "image/png": "[encoded data removed]",
      "text/plain": [
       "Graphics object consisting of 2 graphics primitives"
      ]
     },
     "execution_count": 8,
     "metadata": {},
     "output_type": "execute_result"
    }
   ],
   "source": [
    "var('x')\n",
    "plot([sqrt(1+x),x], (x,1,2), legend_label=[r\"$\\sqrt{1+x}$\",r\"$x$\"], aspect_ratio=1)"
   ]
  },
  {
   "cell_type": "markdown",
   "metadata": {},
   "source": [
    "This means if we let $f(x)=\\sqrt{1+x}$ and $f_n(x)$ be $f$ applied to $x$ for $n$ times, then $f_n(x)$ converges to the fixed point of $f(x)$, regardless of where you start. And this fixed point is"
   ]
  },
  {
   "cell_type": "code",
   "execution_count": 9,
   "metadata": {},
   "outputs": [
    {
     "data": {
      "text/html": [
       "<html><script type=\"math/tex; mode=display\">\\newcommand{\\Bold}[1]{\\mathbf{#1}}x = \\frac{1}{2} \\, \\sqrt{5} + \\frac{1}{2}</script></html>"
      ],
      "text/plain": [
       "x == 1/2*sqrt(5) + 1/2"
      ]
     },
     "metadata": {},
     "output_type": "display_data"
    }
   ],
   "source": [
    "sol = solve(1+x==x^2,x)\n",
    "show(sol[1])"
   ]
  },
  {
   "cell_type": "markdown",
   "metadata": {},
   "source": [
    "This concludes the proof."
   ]
  }
 ],
 "metadata": {
  "hide_input": false,
  "kernelspec": {
   "display_name": "SageMath 8.9",
   "language": "sage",
   "name": "sagemath"
  },
  "language_info": {
   "codemirror_mode": {
    "name": "ipython",
    "version": 2
   },
   "file_extension": ".py",
   "mimetype": "text/x-python",
   "name": "python",
   "nbconvert_exporter": "python",
   "pygments_lexer": "ipython2",
   "version": "2.7.15"
  }
 },
 "nbformat": 4,
 "nbformat_minor": 2
}
